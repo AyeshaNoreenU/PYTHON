{
 "cells": [
  {
   "cell_type": "code",
   "execution_count": 6,
   "id": "a6008454",
   "metadata": {},
   "outputs": [
    {
     "name": "stdout",
     "output_type": "stream",
     "text": [
      "<generator object nums at 0x000001DDF7B270D0>\n",
      "[1, 2, 3, 4, 5, 6, 7, 8, 9, 10]\n"
     ]
    }
   ],
   "source": [
    "def nums(n):\n",
    "    for i in range(1,n+1):\n",
    "        yield i #yield keyword is used to generate generator \n",
    "print(nums(10)) #it prints object of generator\n",
    "numbers=nums(10)\n",
    "numbers=list(nums(10)) \n",
    "print(numbers)"
   ]
  },
  {
   "cell_type": "code",
   "execution_count": 11,
   "id": "fc42c2fe",
   "metadata": {},
   "outputs": [
    {
     "name": "stdout",
     "output_type": "stream",
     "text": [
      "Enter any number: 6\n",
      "2\n",
      "4\n",
      "6\n",
      "2\n",
      "4\n",
      "6\n"
     ]
    }
   ],
   "source": [
    "#Take any number than print even numbers between o and number by using generator\n",
    "n=int(input(\"Enter any number: \"))\n",
    "def even(num):\n",
    "    for i in range(1,num+1):\n",
    "        if i%2==0:\n",
    "            yield i\n",
    "evens=even(n)\n",
    "for e in evens:\n",
    "    print(e)\n",
    "#we can also do above function as\n",
    "def even(num):\n",
    "    for i in range(2,num+2,2): #here we use step argument it takes step of 2\n",
    "            yield i\n",
    "evens=even(n)\n",
    "for e in evens:\n",
    "    print(e)"
   ]
  },
  {
   "cell_type": "code",
   "execution_count": 13,
   "id": "52929be6",
   "metadata": {},
   "outputs": [
    {
     "name": "stdout",
     "output_type": "stream",
     "text": [
      "<generator object <genexpr> at 0x000001DDF7B27760>\n",
      "1\n",
      "4\n",
      "9\n",
      "16\n",
      "25\n",
      "36\n",
      "49\n",
      "64\n",
      "81\n",
      "100\n"
     ]
    }
   ],
   "source": [
    "#Generator comprehension\n",
    "square=(i**2 for i in range(1,11))\n",
    "print(square) #it prints object of generator\n",
    "for i in square: #it prints square of items from 1 to 10\n",
    "    print(i)"
   ]
  },
  {
   "cell_type": "code",
   "execution_count": 14,
   "id": "fee4a6da",
   "metadata": {},
   "outputs": [
    {
     "name": "stdout",
     "output_type": "stream",
     "text": [
      "This program took 5.331292629241943 sec to execute through list\n",
      "This program took 0.0009996891021728516 sec to execute through generator\n"
     ]
    }
   ],
   "source": [
    "#list vs generator\n",
    "import time\n",
    "t1=time.time()\n",
    "l=[i**2 for i in range(1000000)] #10 lac\n",
    "t2=time.time()\n",
    "t=t2-t1\n",
    "print(f\"This program took {t} sec to execute through list\")\n",
    "t1=time.time()\n",
    "g=(i**2 for i in range(1000000)) #10 lac\n",
    "t2=time.time()\n",
    "t=t2-t1\n",
    "print(f\"This program took {t} sec to execute through generator\")"
   ]
  }
 ],
 "metadata": {
  "kernelspec": {
   "display_name": "Python 3 (ipykernel)",
   "language": "python",
   "name": "python3"
  },
  "language_info": {
   "codemirror_mode": {
    "name": "ipython",
    "version": 3
   },
   "file_extension": ".py",
   "mimetype": "text/x-python",
   "name": "python",
   "nbconvert_exporter": "python",
   "pygments_lexer": "ipython3",
   "version": "3.10.9"
  }
 },
 "nbformat": 4,
 "nbformat_minor": 5
}
