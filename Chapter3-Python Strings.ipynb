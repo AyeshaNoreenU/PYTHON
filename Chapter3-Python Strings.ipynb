{
 "cells": [
  {
   "cell_type": "code",
   "execution_count": 1,
   "id": "7100bd9e",
   "metadata": {},
   "outputs": [
    {
     "name": "stdout",
     "output_type": "stream",
     "text": [
      "AyeshaNoreen\n",
      "Ayesha Noreen\n",
      "Ayesha3\n",
      "Ayesha 3\n",
      "AyeshaAyeshaAyesha\n"
     ]
    }
   ],
   "source": [
    "first_name='Ayesha'\n",
    "last_name='Noreen'\n",
    "print(first_name+last_name)        #print AyeshaNoreen\n",
    "print(first_name+' '+last_name)    #print Ayesha Noreen\n",
    "#print(first_name+3)                #error\n",
    "print(first_name+'3')              #Ayesha3\n",
    "print(first_name,str(3))           #Ayesha 3\n",
    "print(first_name*3)                #AyeshaAyeshaAyesha"
   ]
  },
  {
   "cell_type": "code",
   "execution_count": 2,
   "id": "aff6fbbc",
   "metadata": {},
   "outputs": [
    {
     "name": "stdout",
     "output_type": "stream",
     "text": [
      "Hello ayesha your age is 24\n",
      "Hello ayesha your age is:26\n",
      "Hello ayesha your age is:24\n",
      "Hello ayesha your age is:24\n"
     ]
    }
   ],
   "source": [
    "name=\"ayesha\"\n",
    "age=24\n",
    "print(\"Hello\",name,\"your age is\",age)                #simple way\n",
    "print(\"Hello \"+name+\" your age is:\"+str(age+2))      #ugly syntax\n",
    "print(\"Hello {} your age is:{}\".format(name,age))    #in python3\n",
    "print(f\"Hello {name} your age is:{age}\")             #in python 3.6(best syntax)"
   ]
  },
  {
   "cell_type": "code",
   "execution_count": 3,
   "id": "f624d64c",
   "metadata": {},
   "outputs": [
    {
     "name": "stdout",
     "output_type": "stream",
     "text": [
      "Enter n1,n2,n3:4,4,4\n",
      "Average of three numbers is:4.0\n",
      "Average of three numbers is:4.0\n"
     ]
    }
   ],
   "source": [
    "n1,n2,n3=input(\"Enter n1,n2,n3:\").split(\",\")\n",
    "print(f\"Average of three numbers is:{(int(n1)+int(n2)+int(n3))/3}\")     #python 3.6\n",
    "print(\"Average of three numbers is:{}\".format((int(n1)+int(n2)+int(n3))/3))      #python3"
   ]
  },
  {
   "cell_type": "code",
   "execution_count": 4,
   "id": "9730d530",
   "metadata": {},
   "outputs": [
    {
     "name": "stdout",
     "output_type": "stream",
     "text": [
      "A\n",
      " \n",
      "n\n"
     ]
    }
   ],
   "source": [
    "string=\"Ayesha Noreen\"\n",
    "print(string[0])  # 1st index\n",
    "print(string[6])  # 5th index\n",
    "print(string[-1]) #last index "
   ]
  },
  {
   "cell_type": "code",
   "execution_count": 5,
   "id": "9db794b0",
   "metadata": {},
   "outputs": [
    {
     "name": "stdout",
     "output_type": "stream",
     "text": [
      "Ayesha\n",
      "Ayesha Noreen\n",
      "Noreen\n",
      "Ayesha Nor\n"
     ]
    }
   ],
   "source": [
    "string=\"Ayesha Noreen\"\n",
    "print(string[0:6]) #start from 0 and end at 5\n",
    "print(string[:])   #print whole string\n",
    "print(string[7:])  #start from 7th index and print till end\n",
    "print(string[:-3]) #start from 0 and end last-3"
   ]
  },
  {
   "cell_type": "code",
   "execution_count": 6,
   "id": "1aa5a257",
   "metadata": {},
   "outputs": [
    {
     "name": "stdout",
     "output_type": "stream",
     "text": [
      "Enter your name:Ayesha Noreen\n",
      "Your Reverse name is:neeroN ahseyA\n"
     ]
    }
   ],
   "source": [
    "name=input(\"Enter your name:\")\n",
    "print(f\"Your Reverse name is:{name[::-1]}\")"
   ]
  },
  {
   "cell_type": "code",
   "execution_count": 7,
   "id": "4c8095ca",
   "metadata": {},
   "outputs": [
    {
     "name": "stdout",
     "output_type": "stream",
     "text": [
      "6\n",
      "2\n"
     ]
    }
   ],
   "source": [
    "name='ayesha'\n",
    "print(len(name))\n",
    "print(name.count('a'))"
   ]
  },
  {
   "cell_type": "code",
   "execution_count": 8,
   "id": "36d1b45d",
   "metadata": {},
   "outputs": [
    {
     "name": "stdout",
     "output_type": "stream",
     "text": [
      "AYESHA\n",
      "ayesha\n",
      "Ayesha\n"
     ]
    }
   ],
   "source": [
    "name='ayesha'\n",
    "print(name.upper())\n",
    "print(name.lower())\n",
    "print(name.title())"
   ]
  },
  {
   "cell_type": "code",
   "execution_count": 9,
   "id": "62509707",
   "metadata": {},
   "outputs": [
    {
     "name": "stdout",
     "output_type": "stream",
     "text": [
      "        Ayesha      *****\n",
      "Ayesha      *****\n",
      "        Ayesha*****\n",
      "Ayesha*****\n",
      "        Ayesha      \n",
      "or ee\n",
      "noreen\n",
      "0 6\n",
      "*nor een**\n"
     ]
    }
   ],
   "source": [
    "name=\"        Ayesha      \"\n",
    "stars=\"*****\"\n",
    "print(name+stars)\n",
    "print(name.lstrip()+stars)    #is used to remove left spaces it prints Ayesha       *****\n",
    "print(name.rstrip()+stars)    #is used to remove right spaces it prints       Ayesha*****\n",
    "print(name.strip()+stars)     #is used to remove both left and right spaces it prints Ayesha*****\n",
    "print(name.strip('A'))        #Does not remove all A from name bcz name start and end with spaces\n",
    "#if name is without spaces than it removes specific character as\n",
    "last_name='nor een'\n",
    "print(last_name.strip('n'))       #prints oree (remove all n from noreen)\n",
    "print(last_name.replace(\" \",\"\"))  #it replaces inner spaces with not space and prints noreen\n",
    "pos_1 = last_name.find(\"n\")       #contain the location of 1st n in last_name\n",
    "pos_2=last_name.find(\"n\",pos_1+1) #contain location of 2nd n in last_name\n",
    "print(pos_1,pos_2)                # print 0 6\n",
    "print(last_name.center(10,\"*\"))   #print **noreen** bcz total length given is 10 from which 6 occupies \n",
    "#by name and remaining 4 are divided into 2 parts one part is used at left to print * and other at right"
   ]
  },
  {
   "cell_type": "code",
   "execution_count": 10,
   "id": "4cb9e8b4",
   "metadata": {},
   "outputs": [
    {
     "name": "stdout",
     "output_type": "stream",
     "text": [
      "Enter your name and a characterayesha,a\n",
      "Length of your name is:6\n",
      "Number of a in name are=2\n",
      "Enter your name and a characterayesha,n\n",
      "Length of your name is:6\n",
      "Number of n in name are=0\n"
     ]
    }
   ],
   "source": [
    "name,char=input(\"Enter your name and a character\").split(\",\")\n",
    "a=len(name)\n",
    "print(f\"Length of your name is:{a}\")\n",
    "b=name.lower()\n",
    "c=b.count(char)\n",
    "print(f\"Number of {char} in name are={c}\")\n",
    "#in this code if we enter space than character it prints wrong number of characters in name so to \n",
    "#remove this first we remove spaces from name and character than convert in lowercase than print as,\n",
    "name,char=input(\"Enter your name and a character\").split(\",\")\n",
    "a=len(name)\n",
    "print(f\"Length of your name is:{a}\")\n",
    "print(f\"Number of {char} in name are={name.strip().lower().count(char.strip().lower())}\")"
   ]
  },
  {
   "cell_type": "code",
   "execution_count": 11,
   "id": "7c73af57",
   "metadata": {},
   "outputs": [
    {
     "name": "stdout",
     "output_type": "stream",
     "text": [
      "AyeshA\n",
      "ayesha\n"
     ]
    }
   ],
   "source": [
    "string=\"ayesha\"\n",
    "print(string.replace(\"a\",\"A\")) #print AyeshA\n",
    "print(string)                  #print ayesha This is string immutability (actual string remains same)"
   ]
  }
 ],
 "metadata": {
  "kernelspec": {
   "display_name": "Python 3 (ipykernel)",
   "language": "python",
   "name": "python3"
  },
  "language_info": {
   "codemirror_mode": {
    "name": "ipython",
    "version": 3
   },
   "file_extension": ".py",
   "mimetype": "text/x-python",
   "name": "python",
   "nbconvert_exporter": "python",
   "pygments_lexer": "ipython3",
   "version": "3.10.9"
  }
 },
 "nbformat": 4,
 "nbformat_minor": 5
}
