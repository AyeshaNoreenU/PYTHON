{
 "cells": [
  {
   "cell_type": "code",
   "execution_count": 5,
   "id": "e333560c",
   "metadata": {},
   "outputs": [
    {
     "name": "stdout",
     "output_type": "stream",
     "text": [
      "[1, 2, 3, 4, 5, 6]\n",
      "<class 'list'>\n"
     ]
    }
   ],
   "source": [
    "l=[1,2,3,4,4,4,5,6,6]\n",
    "s=list(set(l))\n",
    "print(s)\n",
    "print(type(s))"
   ]
  },
  {
   "cell_type": "code",
   "execution_count": 6,
   "id": "e88f7674",
   "metadata": {},
   "outputs": [
    {
     "name": "stdout",
     "output_type": "stream",
     "text": [
      "{1, 2, 3, 4.0, 1.1, 'ayesha'}\n",
      "{1, 2, 3, 4.0, 1.1, 5, 'ayesha'}\n",
      "{2, 3, 4.0, 1.1, 5, 'ayesha'}\n",
      "{2, 3, 4.0, 1.1, 5, 'ayesha'}\n",
      "set()\n",
      "set()\n"
     ]
    }
   ],
   "source": [
    "#add remove discard clear copy\n",
    "s={1,2,3,4.0,1.0,1.1,'ayesha'} #we cannot store list ,dictionary,tuple in set\n",
    "print(s)    #it does not prints 1.0 bcz 1.0 and 1 are same \n",
    "#it cannot contain duplication {1, 2, 3, 4.0, 1.1, 'ayesha'}\n",
    "s.add(5)\n",
    "print(s) # it prints {1, 2, 3, 4.0, 1.1, 5, 'ayesha'}\n",
    "s.remove(1.0)\n",
    "print(s) # it prints {2, 3, 4.0, 1.1, 5, 'ayesha'}\n",
    "#s.remove(8)\n",
    "#print(s)  #give error bcz 8 is not present\n",
    "s.discard(8)\n",
    "print(s) #8 is not present but give nothing not error\n",
    "s.clear()\n",
    "print(s)  #give empty set { }\n",
    "s1=s.copy()\n",
    "print(s1)  #same as s"
   ]
  },
  {
   "cell_type": "code",
   "execution_count": 7,
   "id": "0528e0d7",
   "metadata": {},
   "outputs": [
    {
     "name": "stdout",
     "output_type": "stream",
     "text": [
      "Not present\n",
      "present\n",
      "1\n",
      "2\n",
      "3\n",
      "4\n",
      "{1, 2, 3, 4, 5, 6}\n",
      "{3, 4}\n"
     ]
    }
   ],
   "source": [
    "#in keyword, looping, union and intersection\n",
    "s={'a','b','c'}\n",
    "s1={1,2,3,4}\n",
    "s2={3,4,5,6}\n",
    "if 5 in s1:\n",
    "    print(\"present\")\n",
    "else:\n",
    "    print(\"Not present\")\n",
    "#it prints not present\n",
    "if 2 in s1:\n",
    "    print(\"present\")\n",
    "else:\n",
    "    print(\"Not present\")\n",
    "#it prints present\n",
    "for item in s1:\n",
    "    print(item)\n",
    "#it print each element of set\n",
    "union_set=s1|s2\n",
    "print(union_set)        #prints {1,2,3,4,5,6}\n",
    "intersection_set=s1&s2\n",
    "print(intersection_set) #prints {3,4}"
   ]
  },
  {
   "cell_type": "code",
   "execution_count": 8,
   "id": "6de564a1",
   "metadata": {},
   "outputs": [
    {
     "name": "stdout",
     "output_type": "stream",
     "text": [
      "{64, 1, 4, 36, 100, 9, 16, 49, 81, 25}\n",
      "{'s', 'r', 'a'}\n"
     ]
    }
   ],
   "source": [
    "#make a set that print square of numbers from 1 to 10 by using set comprehension\n",
    "square={i**2 for i in range(1,11)}\n",
    "print(square)\n",
    "#take a set of names and make a set that prints 1st letter of each name by using set comprehension\n",
    "names={'ayesha','rimsha','sana'}\n",
    "first_letter={i[0] for i in names}\n",
    "print(first_letter)\n",
    "#it prints\n",
    "#{64, 1, 4, 36, 100, 9, 16, 49, 81, 25}\n",
    "#{'s', 'a', 'r'} data is unordered bcz set contain unordered collection of data\n"
   ]
  }
 ],
 "metadata": {
  "kernelspec": {
   "display_name": "Python 3 (ipykernel)",
   "language": "python",
   "name": "python3"
  },
  "language_info": {
   "codemirror_mode": {
    "name": "ipython",
    "version": 3
   },
   "file_extension": ".py",
   "mimetype": "text/x-python",
   "name": "python",
   "nbconvert_exporter": "python",
   "pygments_lexer": "ipython3",
   "version": "3.10.9"
  }
 },
 "nbformat": 4,
 "nbformat_minor": 5
}
