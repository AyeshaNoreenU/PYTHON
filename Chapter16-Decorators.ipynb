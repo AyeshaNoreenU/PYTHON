{
 "cells": [
  {
   "cell_type": "code",
   "execution_count": 18,
   "id": "aa6df776",
   "metadata": {},
   "outputs": [
    {
     "name": "stdout",
     "output_type": "stream",
     "text": [
      "This is function1\n",
      "This is function2\n",
      "This is function1\n",
      "This is awsome function\n",
      "This is function2\n",
      "This is awsome function\n"
     ]
    }
   ],
   "source": [
    "def func1():\n",
    "    print(\"This is function1\")\n",
    "def func2():\n",
    "    print(\"This is function2\")\n",
    "func1()\n",
    "func2()\n",
    "# If we want to add extra functionality with both functions e.g\n",
    "# add a line 'This is awsome function' with both functionsthan we use decorator function as\n",
    "def decorator_func(any_func):\n",
    "    def wrapper_func():\n",
    "        any_func()\n",
    "        return 'This is awsome function'\n",
    "    return wrapper_func\n",
    "var=decorator_func(func1)\n",
    "print(var())\n",
    "var=decorator_func(func2)\n",
    "print(var())"
   ]
  },
  {
   "cell_type": "code",
   "execution_count": 21,
   "id": "bd4f8be2",
   "metadata": {},
   "outputs": [
    {
     "name": "stdout",
     "output_type": "stream",
     "text": [
      "This is function1\n",
      "This is awsome function\n",
      "This is function2\n",
      "This is awsome function\n"
     ]
    }
   ],
   "source": [
    "#syntactic sugar\n",
    "def decorator_func(any_func):\n",
    "    def wrapper_func():\n",
    "        any_func()\n",
    "        return 'This is awsome function'\n",
    "    return wrapper_func\n",
    "@decorator_func\n",
    "def func1():\n",
    "    print(\"This is function1\")\n",
    "@decorator_func\n",
    "def func2():\n",
    "    print(\"This is function2\")\n",
    "\n",
    "print(func1())\n",
    "print(func2())"
   ]
  },
  {
   "cell_type": "code",
   "execution_count": 23,
   "id": "5f9eb81e",
   "metadata": {},
   "outputs": [
    {
     "name": "stdout",
     "output_type": "stream",
     "text": [
      "This is function 1 with argument:5\n",
      "this is awsome function\n",
      "None\n",
      "20\n"
     ]
    }
   ],
   "source": [
    "#decorator with args and kwargs\n",
    "def decorator_func(any_func):\n",
    "    def wrapper_func(*args,**kwarg):\n",
    "        any_func(*args,**kwarg)\n",
    "        print('this is awsome function')\n",
    "    return wrapper_func\n",
    "@decorator_func\n",
    "def func1(num):\n",
    "    print(f\"This is function 1 with argument:{num}\")\n",
    "def func2(a,b):\n",
    "    return a+b\n",
    "print(func1(5))\n",
    "print(func2(14,6))"
   ]
  },
  {
   "cell_type": "code",
   "execution_count": 26,
   "id": "50ebd65f",
   "metadata": {
    "scrolled": true
   },
   "outputs": [
    {
     "name": "stdout",
     "output_type": "stream",
     "text": [
      "this is awsome function\n",
      "This is add function\n",
      "func1\n"
     ]
    }
   ],
   "source": [
    "from functools import wraps\n",
    "def decorator_func(any_func):\n",
    "    @wraps(any_func)\n",
    "    def wrapper_func(*args,**kwarg):\n",
    "        print('This is wrapper function')\n",
    "        return any_func(*args,**kwarg)\n",
    "    print('this is awsome function')\n",
    "    return wrapper_func\n",
    "@decorator_func\n",
    "def func1():\n",
    "    \"\"\"This is add function\"\"\"\n",
    "print(func1.__doc__)  #it prints This is add function\n",
    "print(func1.__name__) #it print func1"
   ]
  },
  {
   "cell_type": "code",
   "execution_count": 28,
   "id": "86fdba2e",
   "metadata": {},
   "outputs": [
    {
     "name": "stdout",
     "output_type": "stream",
     "text": [
      "Enter any number whose square you want to calculate:67\n",
      "Executing ........square\n",
      "This function takes -2.6086087226867676seconds to execute\n",
      "4489\n"
     ]
    }
   ],
   "source": [
    "# Define a square function that prints execution time of program also use decorator.\n",
    "from functools import wraps\n",
    "import time\n",
    "t2=time.time()\n",
    "def calculate_time(any_func):\n",
    "    @wraps(any_func)\n",
    "    def wrapper(*args,**kwarg):\n",
    "        print(f\"Executing ........{any_func.__name__}\")\n",
    "        t1=time.time()\n",
    "        returned_value=any_func(*args,**kwarg)\n",
    "        \n",
    "        total_time=t2-t1\n",
    "        print(f\"This function takes {total_time }seconds to execute\")\n",
    "        return returned_value\n",
    "    return wrapper\n",
    "@calculate_time\n",
    "def square(num):\n",
    "    return num**2\n",
    "n=int(input(\"Enter any number whose square you want to calculate:\"))\n",
    "print(square(n))"
   ]
  },
  {
   "cell_type": "code",
   "execution_count": 2,
   "id": "25278cef",
   "metadata": {},
   "outputs": [
    {
     "name": "stdout",
     "output_type": "stream",
     "text": [
      "invalid input\n",
      "30\n"
     ]
    }
   ],
   "source": [
    "#Define a function that take many inputs and return total if any character is entered \n",
    "#than print wrong input otherwise return sum also use decorator function.e.g\n",
    "from functools import wraps\n",
    "def only_int_allow(function):\n",
    "    @wraps(function)\n",
    "    def wrapper(*args,**kwarg):\n",
    "        datatype=[]\n",
    "        for arg in args:\n",
    "            datatype.append(type(arg)==int)\n",
    "        if all(datatype):\n",
    "            return function(*args,**kwarg)\n",
    "        else:\n",
    "            return \"invalid input\"\n",
    "    return wrapper\n",
    "@only_int_allow\n",
    "def add_all(*args):\n",
    "    total=0\n",
    "    for i in args:\n",
    "        total+=i\n",
    "    return total\n",
    "print(add_all(1,2,3,4,5,10,3,2,'ayesha')) \n",
    "print(add_all(1,2,3,4,5,10,3,2))           "
   ]
  },
  {
   "cell_type": "code",
   "execution_count": null,
   "id": "95433816",
   "metadata": {},
   "outputs": [],
   "source": [
    "from functools import wraps\n",
    "def only_datatype_allow(datatype):\n",
    "    def decorator(function):\n",
    "        @wraps(function)\n",
    "        def wrapper(*args,**kwarg):\n",
    "            if all([type(arg)==datatype for arg in args]):\n",
    "                return function(*args,**kwarg)\n",
    "            print(\"invalid input\")\n",
    "            return wrapper\n",
    "        return decorator\n",
    "@only_datatype_allow(str)\n",
    "def concatestr(*args):\n",
    "    string=''\n",
    "    for i in args:\n",
    "        string+=i\n",
    "        return string\n",
    "print(concatestr('ayesha',' noree','n')) #print ayesha noreen \n",
    "print(concatestr('sana',2))              #print invalid input"
   ]
  }
 ],
 "metadata": {
  "kernelspec": {
   "display_name": "Python 3 (ipykernel)",
   "language": "python",
   "name": "python3"
  },
  "language_info": {
   "codemirror_mode": {
    "name": "ipython",
    "version": 3
   },
   "file_extension": ".py",
   "mimetype": "text/x-python",
   "name": "python",
   "nbconvert_exporter": "python",
   "pygments_lexer": "ipython3",
   "version": "3.10.9"
  }
 },
 "nbformat": 4,
 "nbformat_minor": 5
}
