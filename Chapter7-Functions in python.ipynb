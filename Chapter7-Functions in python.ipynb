{
 "cells": [
  {
   "cell_type": "code",
   "execution_count": 2,
   "id": "1235beac",
   "metadata": {},
   "outputs": [
    {
     "name": "stdout",
     "output_type": "stream",
     "text": [
      "Enter number1:5\n",
      "Enter number2:5\n",
      "10\n",
      "Sum of numbers is:10\n",
      "Ayesha noreen\n"
     ]
    }
   ],
   "source": [
    "def total(a,b):\n",
    "    return a+b\n",
    "    print(a+b)  #we can also print directly without return\n",
    "num1=int(input(\"Enter number1:\"))\n",
    "num2=int(input(\"Enter number2:\"))\n",
    "Sum=total(num1,num2) #function call and store result in a variable\n",
    "print(total(num1,num2)) #we can also print directky\n",
    "print(f\"Sum of numbers is:{Sum}\")\n",
    "print(total(\"Ayesha \",\"noreen\")) # we can also pass strings total function concate two strings"
   ]
  },
  {
   "cell_type": "code",
   "execution_count": 6,
   "id": "498bcae8",
   "metadata": {},
   "outputs": [
    {
     "name": "stdout",
     "output_type": "stream",
     "text": [
      "a\n",
      "Enter any name whose last character you want to print: Allah\n",
      "last charcater of Allah is h\n"
     ]
    }
   ],
   "source": [
    "def last_char(name):\n",
    "    return name[-1]\n",
    "print(last_char(\"Ayesha\")) #we can pass string in parameters\n",
    "n=input(\"Enter any name whose last character you want to print: \") #we can also take input\n",
    "a=last_char(n) #than pass input in parameter\n",
    "print(f\"last charcater of {n} is {a}\")\n",
    "#last_char(9)#if we pass any number it gives error bcz function return a string index not number "
   ]
  },
  {
   "cell_type": "code",
   "execution_count": 9,
   "id": "54b54eb9",
   "metadata": {},
   "outputs": [
    {
     "name": "stdout",
     "output_type": "stream",
     "text": [
      "Enter number: 6\n",
      "Even\n"
     ]
    }
   ],
   "source": [
    "def even_odd(num):\n",
    "    if num%2==0:\n",
    "        return \"Even\"\n",
    "    else:\n",
    "        return \"odd\" #function can also return a string\n",
    "number=int(input('Enter number: '))\n",
    "print(even_odd(number))\n"
   ]
  },
  {
   "cell_type": "code",
   "execution_count": 10,
   "id": "1a45d36f",
   "metadata": {},
   "outputs": [
    {
     "name": "stdout",
     "output_type": "stream",
     "text": [
      "Enter number1:7\n",
      "Enter number2:34\n",
      "number2 is greater than number1\n"
     ]
    }
   ],
   "source": [
    "#take two number from user as input than show which number is greater\n",
    "def greater(num1,num2):\n",
    "    if num1>num2:\n",
    "        return \"number1 is greater than number2\"\n",
    "    return \"number2 is greater than number1\"\n",
    "n1=int(input(\"Enter number1:\"))\n",
    "n2=int(input(\"Enter number2:\"))\n",
    "print(greater(n1,n2))"
   ]
  },
  {
   "cell_type": "code",
   "execution_count": 12,
   "id": "7e93060d",
   "metadata": {},
   "outputs": [
    {
     "name": "stdout",
     "output_type": "stream",
     "text": [
      "Enter number1:12\n",
      "Enter number2:56\n",
      "Enter number3:23\n",
      "Greatest number is:56\n"
     ]
    }
   ],
   "source": [
    "def greater(num1,num2):\n",
    "    if num1>num2:\n",
    "        return num1\n",
    "    return num2\n",
    "def greatest(n1,n2,n3):\n",
    "    big=greater(n1,n2)\n",
    "    return greater(big,n3)\n",
    "a=int(input(\"Enter number1:\"))\n",
    "b=int(input(\"Enter number2:\"))\n",
    "c=int(input(\"Enter number3:\"))\n",
    "print(f\"Greatest number is:{greatest(a,b,c)}\")"
   ]
  },
  {
   "cell_type": "code",
   "execution_count": 14,
   "id": "3c12f857",
   "metadata": {},
   "outputs": [
    {
     "name": "stdout",
     "output_type": "stream",
     "text": [
      "Enter any name:ayesha\n",
      "Name is not palindrom\n"
     ]
    }
   ],
   "source": [
    "# Take any string and print either it is palindrom or not\n",
    "def is_palindrom(name):\n",
    "     if name[::-1]==name:\n",
    "        return \"Name is palindrom\"\n",
    "     else:\n",
    "        return \"Name is not palindrom\"\n",
    "n=input(\"Enter any name:\")\n",
    "print(is_palindrom(n))"
   ]
  },
  {
   "cell_type": "code",
   "execution_count": 19,
   "id": "56083e48",
   "metadata": {},
   "outputs": [
    {
     "name": "stdout",
     "output_type": "stream",
     "text": [
      "Enter how many numbers of fabnocci series you want to print:5\n",
      "0 1 1 2 3 "
     ]
    }
   ],
   "source": [
    " #fabinacci series  0 1 1 2 3 5 8 13 21 34..............\n",
    "def fabnnocci(n):\n",
    "    a=0\n",
    "    b=1\n",
    "    if n==1:\n",
    "        print(a)\n",
    "    elif n==2:\n",
    "        print(a,b)\n",
    "    else:\n",
    "        print(a ,b, end=\" \")\n",
    "        for i in range(n-2):\n",
    "            c=a+b\n",
    "            a=b\n",
    "            b=c\n",
    "            print(b, end=\" \")\n",
    "num=int(input(\"Enter how many numbers of fabnocci series you want to print:\"))\n",
    "fabnnocci(num)"
   ]
  },
  {
   "cell_type": "code",
   "execution_count": 7,
   "id": "e28dd387",
   "metadata": {},
   "outputs": [
    {
     "name": "stdout",
     "output_type": "stream",
     "text": [
      "[1, 4, 9, 16, 25]\n"
     ]
    }
   ],
   "source": [
    "def square(num):\n",
    "    return num**2\n",
    "#print(square(5)) #it prints 25\n",
    "#s=square #here square is assigned to s\n",
    "#print(s(6)) #it prints 36\n",
    "#print(s.__name__) #it print square mean name of s is square\n",
    "#print(square.__name__) #it also prints square\n",
    "L=[1,2,3,4,5] \n",
    "print(list(map(square,L)))#this is build in map function that print square as[1,4,9,16,25]"
   ]
  },
  {
   "cell_type": "code",
   "execution_count": 9,
   "id": "74c2ed95",
   "metadata": {},
   "outputs": [
    {
     "name": "stdout",
     "output_type": "stream",
     "text": [
      "[1, 4, 9, 16, 25]\n",
      "[1, 4, 9, 16, 25]\n",
      "[1, 8, 27, 64, 125]\n"
     ]
    }
   ],
   "source": [
    "#function as an argument\n",
    "def square(num):\n",
    "    return num**2\n",
    "L=[1,2,3,4,5] \n",
    "print(list(map(square,L)))\n",
    "#this is build in map function that print square as[1,4,9,16,25]\n",
    "\n",
    "def my_map(func,l):\n",
    "    new=[]\n",
    "    for i in l:\n",
    "        new.append(func(i))\n",
    "    return new\n",
    "print(my_map(square,L)) #it also prints [1,4,9,16,25]\n",
    "#we can also do this by list comprehension\n",
    "def my_map2(fun,l):\n",
    "    return [fun(item) for item in l]\n",
    "print(my_map2(lambda x:x**3,L)) #it prints [1, 8, 27, 64, 125]"
   ]
  },
  {
   "cell_type": "code",
   "execution_count": 12,
   "id": "1e6adcbb",
   "metadata": {},
   "outputs": [
    {
     "name": "stdout",
     "output_type": "stream",
     "text": [
      "<function outer.<locals>.inner at 0x00000180A1B1CD30>\n",
      "Message is:hello\n",
      "None\n"
     ]
    }
   ],
   "source": [
    "#function returning a function\n",
    "def outer(msg):\n",
    "    def inner():\n",
    "        print(f\"Message is:{msg}\")\n",
    "    return inner\n",
    "print(outer(\"hello\")) #give outer object bcz outer return a function\n",
    "a=outer(\"hello\")\n",
    "print(a()) #it returns message is hello"
   ]
  },
  {
   "cell_type": "code",
   "execution_count": 14,
   "id": "5d3ff40e",
   "metadata": {},
   "outputs": [
    {
     "name": "stdout",
     "output_type": "stream",
     "text": [
      "125\n",
      "16\n",
      "32\n"
     ]
    }
   ],
   "source": [
    "#A function to calculate either square or cube or raised to power of any number \n",
    "#by using only a single function \n",
    "def to_power(x):\n",
    "    def cal_power(n):\n",
    "        return n**x\n",
    "    return cal_power\n",
    "cube=to_power(3)\n",
    "print(cube(5)) #it prints cube of 5=125\n",
    "square=to_power(2)\n",
    "print(square(4)) #it print 4 square=16\n",
    "power_five=to_power(5)\n",
    "print(power_five(2)) #it prints 2 raised to power 5=32"
   ]
  },
  {
   "cell_type": "code",
   "execution_count": 18,
   "id": "55c80cd2",
   "metadata": {},
   "outputs": [
    {
     "name": "stdout",
     "output_type": "stream",
     "text": [
      "Ayesha is at position or at index number 0\n",
      "Noreen is at position or at index number 1\n",
      "Sana is at position or at index number 2\n",
      "Adnan is at position or at index number 3\n",
      "Ayesha is at position or at index number 0\n",
      "Noreen is at position or at index number 1\n",
      "Sana is at position or at index number 2\n",
      "Adnan is at position or at index number 3\n"
     ]
    }
   ],
   "source": [
    "#enumerate function\n",
    "names=['Ayesha','Noreen','Sana','Adnan']\n",
    "pos=0\n",
    "for name in names:\n",
    "    print(f\"{name} is at position or at index number {pos}\")\n",
    "    pos+=1\n",
    "#finding position with the use of enumerate function\n",
    "for i,j in enumerate(names):\n",
    "    print(f\"{j} is at position or at index number {i}\")"
   ]
  },
  {
   "cell_type": "code",
   "execution_count": 21,
   "id": "ad32e891",
   "metadata": {},
   "outputs": [
    {
     "name": "stdout",
     "output_type": "stream",
     "text": [
      "2\n"
     ]
    }
   ],
   "source": [
    "#define a function that take two parameters one is list of strings and other is string than \n",
    "#find string in list of strings if find out than return position otherwise return -1\n",
    "#use enumerate function\n",
    "def position_finder(l,string):\n",
    "    for i,j in enumerate(l):\n",
    "        if j==string:\n",
    "            return i\n",
    "    return -1 \n",
    "names=['ayesha','noreen','sana','adnan']\n",
    "print(position_finder(names,'sana'))"
   ]
  },
  {
   "cell_type": "code",
   "execution_count": 45,
   "id": "e80dd73d",
   "metadata": {
    "scrolled": true
   },
   "outputs": [
    {
     "name": "stdout",
     "output_type": "stream",
     "text": [
      "[1, 4, 9, 16, 25]\n",
      "[3, 3, 2]\n",
      "3\n",
      "3\n",
      "2\n"
     ]
    }
   ],
   "source": [
    "#map() function\n",
    "def square_calculator(num):\n",
    "    return num**2\n",
    "#map a list numbers into a square_calculator function \n",
    "#convert into list and save in squares list\n",
    "numbers=[1,2,3,4,5]\n",
    "squares=list(map(s,numbers))\n",
    "print(squares)\n",
    "#we can also use a pre-defined function in map function\n",
    "List=['abc','cba','ad']\n",
    "length=list(map(len,List))\n",
    "#we can apply loop on map object\n",
    "print(length)\n",
    "for index in length:\n",
    "    print(index)"
   ]
  },
  {
   "cell_type": "code",
   "execution_count": 16,
   "id": "d3c69e8f",
   "metadata": {},
   "outputs": [
    {
     "name": "stdout",
     "output_type": "stream",
     "text": [
      "(<function is_even at 0x000001B6D1AF15A0>, [1, 2, 4, 5, 8, 3])\n",
      "(2, 4, 8)\n",
      "2\n",
      "4\n",
      "8\n",
      "[2, 4, 8]\n"
     ]
    }
   ],
   "source": [
    "#filter function which filters even numbers.\n",
    "def is_even(num):\n",
    "    return num%2==0\n",
    "numbers=[1,2,4,5,8,3]\n",
    "evens=tuple((is_even,numbers))\n",
    "print(evens) \n",
    "#we can also perform above function by use of lambda expression as\n",
    "evens=tuple(filter(lambda i:i%2==0,numbers)) \n",
    "print(evens) \n",
    "for i in evens:\n",
    "    print(i)\n",
    "#if we remove tuple from above method than loop is run only one time\n",
    "#we can also do above function by using list comprehension as \n",
    "even=[i for i in numbers if i%2==0]\n",
    "print(even)"
   ]
  },
  {
   "cell_type": "code",
   "execution_count": 20,
   "id": "fc8f5ae4",
   "metadata": {},
   "outputs": [
    {
     "name": "stdout",
     "output_type": "stream",
     "text": [
      "<list_iterator object at 0x000001B6D1238B50>\n",
      "1\n",
      "2\n",
      "3\n",
      "<map object at 0x000001B6CFBC0430>\n",
      "1\n",
      "4\n",
      "9\n"
     ]
    }
   ],
   "source": [
    "#iterables and iterators\n",
    "numbers=[1,2,3]\n",
    "returned_next=iter(numbers) #if we donot call this iter function and directly call next than give error\n",
    "print(returned_next) #<list_iterator object at 0x000000142E6D2B00>\n",
    "print(next(returned_next)) #1\n",
    "print(next(returned_next)) #2\n",
    "print(next(returned_next)) #3\n",
    "#print(next(returned_next)) #error\n",
    "squares=map(lambda i:i**2,numbers)\n",
    "print(squares)\n",
    "print(next(squares)) \n",
    "print(next(squares))\n",
    "print(next(squares))\n",
    "#in above method we directly call next fuction iter is not call than it print squares not error\n",
    "#so this is iterator"
   ]
  },
  {
   "cell_type": "code",
   "execution_count": 43,
   "id": "44826c9d",
   "metadata": {},
   "outputs": [
    {
     "name": "stdout",
     "output_type": "stream",
     "text": [
      "[(1, ('ayesha', 4)), (2, ('zneesha', 2)), (3, ('sehrish', 3)), (4, ('zoya', 4))]\n",
      "[(1, 4), (2, 2), (3, 3), (4, 4)]\n",
      "[(1, 'ayesha'), (2, 'zneesha'), (3, 'sehrish'), (4, 'zoya')]\n",
      "[('ayesha', '3.2'), ('zneesha', '3.6')]\n",
      "{'ayesha': '3.2', 'zneesha': '3.6'}\n",
      "[(1, 'ayesha', '3.2', 'lahore'), (2, 'zneesha', '3.6', 'okara')]\n"
     ]
    }
   ],
   "source": [
    "#zip() function\n",
    "reg_no=(1,2,3,4)\n",
    "names={'ayesha':4,'zneesha':2,'sehrish':3,'zoya':4}\n",
    "cgpa=['3.2','3.6']\n",
    "city=['lahore','okara','sahiwal','patoki']\n",
    "print(list(zip(reg_no,names.items())))\n",
    "print(list(zip(reg_no,names.values())))\n",
    "print(list(zip(reg_no,names))) #by default take keys\n",
    "#if length is not same than it discard extra elements\n",
    "print(list(zip(names,cgpa)))\n",
    "#we can also convert above list into dictionary as\n",
    "print(dict(zip(names,cgpa)))\n",
    "#we can also use more than 2 lists\n",
    "print(list(zip(reg_no,names,cgpa,city)))"
   ]
  },
  {
   "cell_type": "code",
   "execution_count": 63,
   "id": "9a921276",
   "metadata": {},
   "outputs": [
    {
     "name": "stdout",
     "output_type": "stream",
     "text": [
      "odds are: [1, 3, 5]\n",
      "evens are: [2, 4, 6]\n",
      "zeros are: [0, 0, 0]\n",
      "floats are: [1.1, 1.2, 1.3]\n"
     ]
    }
   ],
   "source": [
    "#* operator in zip() method\n",
    "numbers=[(1,2,0,1.1),(3,4,0,1.2),(5,6,0,1.3)]\n",
    "odd,even,zeros,floats=list(zip(*numbers))\n",
    "print('odds are:',list(odd))\n",
    "print(\"evens are:\",list(even))\n",
    "print(\"zeros are:\",list(zeros))\n",
    "print(\"floats are:\",list(floats))"
   ]
  },
  {
   "cell_type": "code",
   "execution_count": 65,
   "id": "7e7373c3",
   "metadata": {},
   "outputs": [
    {
     "name": "stdout",
     "output_type": "stream",
     "text": [
      "[2, 4, 6]\n"
     ]
    }
   ],
   "source": [
    "#print max element from tuple that zip() return\n",
    "odd=[1, 3, 5]\n",
    "even=[2, 4, 6]\n",
    "zeros=[0, 0, 0]\n",
    "floats=[1.1, 1.2, 1.3]\n",
    "new_list=[]\n",
    "for i in zip(odd,even,zeros,floats): \n",
    "    new_list.append(max(i))\n",
    "print(new_list)"
   ]
  },
  {
   "cell_type": "code",
   "execution_count": 68,
   "id": "2d3b9cf3",
   "metadata": {},
   "outputs": [
    {
     "name": "stdout",
     "output_type": "stream",
     "text": [
      "[5.0, 3.6666666666666665, 5.0, 6.333333333333333]\n",
      "[5.0, 3.6666666666666665, 5.0, 6.333333333333333]\n"
     ]
    }
   ],
   "source": [
    "#function that return average of elements of each tuple that zip() returns\n",
    "l1=[1,2,3,4]\n",
    "l2=[5,6,7,8]\n",
    "l3=[9,3,5,7]\n",
    "l=list(zip(l1,l2,l3))\n",
    "s=[]\n",
    "for i in l:\n",
    "    s.append((sum(i))/3)\n",
    "print(s)\n",
    "#we can also define above function in 2 lines as\n",
    "a= lambda *args:[sum(i)/len(i) for i in zip(*args)]\n",
    "print(a([1,2,3,4],[5,6,7,8],[9,3,5,7]))"
   ]
  },
  {
   "cell_type": "code",
   "execution_count": 70,
   "id": "6e3a6f06",
   "metadata": {},
   "outputs": [
    {
     "name": "stdout",
     "output_type": "stream",
     "text": [
      "True\n",
      "False\n",
      "True\n",
      "False\n"
     ]
    }
   ],
   "source": [
    "#any() and all() function\n",
    "l1=[2,4,6,10,8]\n",
    "print(all(i%2==0 for i in l1))#it prints true because all l1 items are even\n",
    "l1=[2,4,3,10,8]\n",
    "print(all(i%2==0 for i in l1))#it prints false because not all l1 items are even\n",
    "l1=[1,5,3,7,8]\n",
    "print(any(i%2==0 for i in l1))#it prints true because one even is present in l1\n",
    "l1=[1,3,5,9,7]\n",
    "print(any(i%2==0 for i in l1))#it prints false because not any number is even"
   ]
  },
  {
   "cell_type": "code",
   "execution_count": 6,
   "id": "78c12d34",
   "metadata": {},
   "outputs": [
    {
     "name": "stdout",
     "output_type": "stream",
     "text": [
      "40\n"
     ]
    }
   ],
   "source": [
    "# Define a function which check the type of input and than print its sum if input type is int or float\n",
    "\n",
    "def total(*args):\n",
    "    s=0\n",
    "    if all([(type(a)==int or type(a)==float) for a in args]):\n",
    "        for i in args:\n",
    "            s+=i\n",
    "        return s\n",
    "    else:\n",
    "        return \"wrong input\"\n",
    "print(total(1,7,8,9,5,10))\n"
   ]
  },
  {
   "cell_type": "code",
   "execution_count": 8,
   "id": "8b72b071",
   "metadata": {},
   "outputs": [
    {
     "name": "stdout",
     "output_type": "stream",
     "text": [
      "10\n",
      "1\n",
      "sana\n",
      "ayesha\n"
     ]
    }
   ],
   "source": [
    "#advanced min and max function\n",
    "#A function which return max string with respected to len of string\n",
    "numbers=[1,5,6,10,7,8]\n",
    "print(max(numbers)) #print 10\n",
    "print(min(numbers)) #print 1\n",
    "names=['ayesha','sana','adnan']\n",
    "print(max(names)) #print sana because s is max than a\n",
    "#but if we want max string w.r.t length of string,\n",
    "print(max(names, key=lambda item:len(item))) #print ayesha"
   ]
  },
  {
   "cell_type": "code",
   "execution_count": 9,
   "id": "45f45150",
   "metadata": {},
   "outputs": [
    {
     "name": "stdout",
     "output_type": "stream",
     "text": [
      "{'name': 'ayesha', 'score': 98, 'age': 22}\n",
      "ayesha\n",
      "areesha\n",
      "adnan\n",
      "ayesha\n"
     ]
    }
   ],
   "source": [
    "#if we have a list of students and this list have many dictionaries if we want to print only\n",
    "#one dictionary that have highest score\n",
    "students=[\n",
    "{'name':'ayesha','score':98,'age':22},\n",
    "{'name':'areesha','score':80,'age':20},\n",
    "{'name':'sana','score':90,'age':24}\n",
    "]\n",
    "print(max(students,key=lambda item:item.get('score')))\n",
    "#above method print whole dictionary if we want to print only name\n",
    "print(max(students,key=lambda item:item.get('score'))['name'])\n",
    "#if we have a dictionary which contain many key value pairs each value \n",
    "# have a dictionary and we want to calculate max and min from this \n",
    "students2={\n",
    "'ayesha':{'score':78,'age':22},\n",
    "'sana':{'score':80,'age':14},\n",
    "'adnan':{'score':98,'age':6}\n",
    "}\n",
    "print(max(students2,key=lambda item:students2[item]['score']))"
   ]
  },
  {
   "cell_type": "code",
   "execution_count": 10,
   "id": "c38078e0",
   "metadata": {},
   "outputs": [
    {
     "name": "stdout",
     "output_type": "stream",
     "text": [
      "['adnan', 'ayesha', 'noreen', 'sana']\n",
      "{'sana', 'ayesha', 'noreen', 'adnan'}\n",
      "['adnan', 'ayesha', 'noreen', 'sana']\n",
      "('farooq', 'arfan', 'umar', 'rehman')\n",
      "['arfan', 'farooq', 'rehman', 'umar']\n",
      "[{'name': 'noreen', 'age': 20, 'city': 'sahiwal'}, {'name': 'ayesha', 'age': 22, 'city': 'kamalia'}, {'name': 'sana', 'age': 28, 'city': 'karachi'}]\n",
      "[{'name': 'sana', 'age': 28, 'city': 'karachi'}, {'name': 'ayesha', 'age': 22, 'city': 'kamalia'}, {'name': 'noreen', 'age': 20, 'city': 'sahiwal'}]\n"
     ]
    }
   ],
   "source": [
    "# advanced sorted function()\n",
    "#if we have a list and we want to sort items of list than we apply sort method\n",
    "names=['noreen','adnan','sana','ayesha']\n",
    "names.sort()\n",
    "print(names) #it prints ['adnan', 'ayesha', 'noreen', 'sana']\n",
    "#if we want to sort items of set than sort method cannot be applicable on set\n",
    "#we can apply sorted method\n",
    "names2={'ayesha','sana','adnan','noreen'}\n",
    "#names2.sort() error\n",
    "names3=sorted(names2)\n",
    "print(names2) #set is immutable so does not change{'ayesha', 'sana', 'adnan', 'noreen'}\n",
    "print(names3) #['adnan', 'ayesha', 'noreen', 'sana']\n",
    "names4=('farooq','arfan','umar','rehman')\n",
    "#names4.sort() error bcz also on tuples cannot apply sort\n",
    "names5=sorted(names4)\n",
    "print(names4) #('farooq', 'arfan', 'umar', 'rehman')\n",
    "print(names5) #['arfan', 'farooq', 'rehman', 'umar']\n",
    "user_info=[{'name':'ayesha','age':22,'city':'kamalia'},\n",
    "{'name':'noreen','age':20,'city':'sahiwal'},\n",
    "{'name':'sana','age':28,'city':'karachi'}]\n",
    "print(sorted(user_info,key=lambda item:item['age']))\n",
    "print(sorted(user_info,key=lambda item:item['age'],reverse=True))"
   ]
  },
  {
   "cell_type": "code",
   "execution_count": 13,
   "id": "e4362c8e",
   "metadata": {
    "scrolled": false
   },
   "outputs": [
    {
     "name": "stdout",
     "output_type": "stream",
     "text": [
      "13\n",
      "\n",
      "This is Doc string!!!!\n",
      "This function add two numbers\n",
      "    \n",
      "Return the sum of a 'start' value (default: 0) plus an iterable of numbers\n",
      "\n",
      "When the iterable is empty, return the start value.\n",
      "This function is intended specifically for use with numeric values and may\n",
      "reject non-numeric types.\n",
      "max(iterable, *[, default=obj, key=func]) -> value\n",
      "max(arg1, arg2, *args, *[, key=func]) -> value\n",
      "\n",
      "With a single iterable argument, return its biggest item. The\n",
      "default keyword-only argument specifies an object to return if\n",
      "the provided iterable is empty.\n",
      "With two or more arguments, return the largest argument.\n"
     ]
    }
   ],
   "source": [
    "#doc string\n",
    "def add(a,b):\n",
    "    '''This is Doc string!!!!\n",
    "    This function add two numbers\n",
    "    '''\n",
    "    return a+b\n",
    "print(add(5,8)) #this show 13 \n",
    "print(add.__doc__) #this prints doc string\n",
    "print(sum.__doc__) #this show doc string of build in sum function\n",
    "print(max.__doc__) #this show doc string of build in max function"
   ]
  },
  {
   "cell_type": "code",
   "execution_count": 16,
   "id": "80b31fbe",
   "metadata": {
    "scrolled": true
   },
   "outputs": [
    {
     "name": "stdout",
     "output_type": "stream",
     "text": [
      "Help on function add in module __main__:\n",
      "\n",
      "add(a, b)\n",
      "    #help() function\n",
      "\n",
      "Help on built-in function sum in module builtins:\n",
      "\n",
      "sum(iterable, /, start=0)\n",
      "    Return the sum of a 'start' value (default: 0) plus an iterable of numbers\n",
      "    \n",
      "    When the iterable is empty, return the start value.\n",
      "    This function is intended specifically for use with numeric values and may\n",
      "    reject non-numeric types.\n",
      "\n"
     ]
    }
   ],
   "source": [
    "#help() function\n",
    "def add(a,b):\n",
    "    return a+b\n",
    "help(add)\n",
    "help(sum)\n",
    "# help(max)\n",
    "# help(min)\n",
    "# help(len)"
   ]
  },
  {
   "cell_type": "code",
   "execution_count": 2,
   "id": "66e3cc10",
   "metadata": {},
   "outputs": [
    {
     "name": "stdout",
     "output_type": "stream",
     "text": [
      "Enter any number whose square you want to calculate:6\n",
      "Square is:36\n",
      "Execution time of this program is:4.182973384857178sec\n"
     ]
    }
   ],
   "source": [
    "#time() function\n",
    "import time\n",
    "t1=time.time()\n",
    "def square(num):\n",
    "    return num**2\n",
    "n=int(input(\"Enter any number whose square you want to calculate:\"))\n",
    "print(f\"Square is:{square(n)}\")\n",
    "t2=time.time()\n",
    "t=t2-t1\n",
    "print(f\"Execution time of this program is:{t}sec\")"
   ]
  },
  {
   "cell_type": "code",
   "execution_count": 23,
   "id": "1ed0d621",
   "metadata": {},
   "outputs": [
    {
     "name": "stdout",
     "output_type": "stream",
     "text": [
      "number1 is greatest\n",
      "Enter number1: 50\n",
      "Enter number2: 100\n",
      "Enter number3: 150\n",
      "number3 is greatest\n"
     ]
    }
   ],
   "source": [
    "#take three numbers than print which is greatest\n",
    "def greatest(n1,n2,n3):\n",
    "    if n1>n2 and n1>n3:\n",
    "        return \"number1 is greatest\"\n",
    "    elif n2>n1 and n2>n3:\n",
    "        return \"number2 is greatest\"\n",
    "    else:\n",
    "        return \"number3 is greatest\"\n",
    "print(greatest(10000,200,30)) #pass values during call\n",
    "n1=int(input('Enter number1: '))\n",
    "n2=int(input('Enter number2: '))\n",
    "n3=int(input('Enter number3: '))\n",
    "print(greatest(n1,n2,n3))  #take values from user"
   ]
  },
  {
   "cell_type": "code",
   "execution_count": 21,
   "id": "abd81e5d",
   "metadata": {},
   "outputs": [
    {
     "name": "stdout",
     "output_type": "stream",
     "text": [
      "your first name is:Ayesha\n",
      "your last name is:Noreen\n",
      "your age is:22\n",
      "your first name is:unknown\n",
      "your last name is:unknown\n",
      "your age is:none\n"
     ]
    }
   ],
   "source": [
    "def fun(first_name=\"unknown\",last_name=\"unknown\",age=\"none\"):\n",
    "    print(f\"your first name is:{first_name}\")\n",
    "    print(f\"your last name is:{last_name}\")\n",
    "    print(f\"your age is:{age}\")\n",
    "fun(\"Ayesha\",\"Noreen\",22) \n",
    "fun()  "
   ]
  },
  {
   "cell_type": "code",
   "execution_count": 24,
   "id": "2581047f",
   "metadata": {},
   "outputs": [
    {
     "name": "stdout",
     "output_type": "stream",
     "text": [
      "10\n",
      "5\n",
      "5\n"
     ]
    }
   ],
   "source": [
    "x=10  #global variable\n",
    "def fun():\n",
    "    global x\n",
    "    x=5    #local variable\n",
    "    return x\n",
    "print(x)         #print global x which is 10 bcz fun is not call yet\n",
    "print(fun())     #print 5 bcz we use global x in fun which changes the value of x=5\n",
    "print(x)         #print 5"
   ]
  },
  {
   "cell_type": "code",
   "execution_count": null,
   "id": "373eb554",
   "metadata": {},
   "outputs": [],
   "source": []
  }
 ],
 "metadata": {
  "kernelspec": {
   "display_name": "Python 3 (ipykernel)",
   "language": "python",
   "name": "python3"
  },
  "language_info": {
   "codemirror_mode": {
    "name": "ipython",
    "version": 3
   },
   "file_extension": ".py",
   "mimetype": "text/x-python",
   "name": "python",
   "nbconvert_exporter": "python",
   "pygments_lexer": "ipython3",
   "version": "3.10.9"
  }
 },
 "nbformat": 4,
 "nbformat_minor": 5
}
