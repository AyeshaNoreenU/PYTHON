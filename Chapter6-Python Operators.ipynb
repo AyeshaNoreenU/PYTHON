{
 "cells": [
  {
   "cell_type": "code",
   "execution_count": 3,
   "id": "4764569e",
   "metadata": {},
   "outputs": [
    {
     "name": "stdout",
     "output_type": "stream",
     "text": [
      "Addition:  15\n",
      "Subtraction:  -5\n",
      "Multiplication:  50\n",
      "Exponential:  9765625\n",
      "Division:  0.5\n",
      "Floor division:  0\n",
      "Modulus:  5\n"
     ]
    }
   ],
   "source": [
    "#Arithmetic operators\n",
    "x=5\n",
    "y=10\n",
    "print('Addition: ',x+y)\n",
    "print('Subtraction: ',x-y)\n",
    "print('Multiplication: ',x*y)\n",
    "print('Exponential: ',x**y)\n",
    "print('Division: ',x/y)\n",
    "print('Floor division: ',x//y)\n",
    "print('Modulus: ',x%y)"
   ]
  },
  {
   "cell_type": "code",
   "execution_count": 19,
   "id": "f127895f",
   "metadata": {},
   "outputs": [
    {
     "name": "stdout",
     "output_type": "stream",
     "text": [
      "5\n",
      "10\n",
      "5\n",
      "25\n",
      "9765625\n",
      "1953125.0\n",
      "390625.0\n"
     ]
    }
   ],
   "source": [
    "#Assignment operator\n",
    "x=5\n",
    "print(x)\n",
    "x+=5     #x=x+5\n",
    "print(x)\n",
    "x-=5     #x=x-5\n",
    "print(x)\n",
    "x*=5     #x=x*5\n",
    "print(x)\n",
    "x**=5    #x=x**5\n",
    "print(x)\n",
    "x/=5     #x=x/5\n",
    "print(x)\n",
    "x//=5    #x=x//5\n",
    "print(x)"
   ]
  },
  {
   "cell_type": "code",
   "execution_count": 18,
   "id": "d8466dfc",
   "metadata": {},
   "outputs": [
    {
     "name": "stdout",
     "output_type": "stream",
     "text": [
      "1\n"
     ]
    }
   ],
   "source": [
    "x=51     #51/5= 10 and 1 remainder\n",
    "x%=5     #x=x%5\n",
    "print(x) #1"
   ]
  },
  {
   "cell_type": "code",
   "execution_count": 6,
   "id": "2875dc9d",
   "metadata": {},
   "outputs": [
    {
     "name": "stdout",
     "output_type": "stream",
     "text": [
      "1\n"
     ]
    }
   ],
   "source": [
    "#it return and of corresponding binary numbers\n",
    "x = 5   #x=101 \n",
    "x &= 3  #x=x&3 ==> 101&011 ==>001 (1)\n",
    "print(x)"
   ]
  },
  {
   "cell_type": "code",
   "execution_count": 20,
   "id": "5c7789bd",
   "metadata": {},
   "outputs": [
    {
     "name": "stdout",
     "output_type": "stream",
     "text": [
      "7\n"
     ]
    }
   ],
   "source": [
    "#it return or of corresponding binary numbers\n",
    "x = 5   #x=101 \n",
    "x |= 3  #x=x|3 ==> 101|011 ==>111 (7)\n",
    "print(x)"
   ]
  },
  {
   "cell_type": "code",
   "execution_count": 31,
   "id": "b301838c",
   "metadata": {},
   "outputs": [
    {
     "name": "stdout",
     "output_type": "stream",
     "text": [
      "3\n"
     ]
    }
   ],
   "source": [
    "#it return xor of corresponding binary numbers\n",
    "#(for same values 0 for different values 1)\n",
    "x = 7   #x=111\n",
    "x ^= 4  #x=x^4 ==> 111^100 ==>011 (3) \n",
    "print(x)"
   ]
  },
  {
   "cell_type": "code",
   "execution_count": 33,
   "id": "415bf764",
   "metadata": {},
   "outputs": [
    {
     "name": "stdout",
     "output_type": "stream",
     "text": [
      "160\n"
     ]
    }
   ],
   "source": [
    "#logical shift left and fill zeros at right\n",
    "x=5    #101\n",
    "x<<=5  #10100000 (=160)\n",
    "print(x)"
   ]
  },
  {
   "cell_type": "code",
   "execution_count": 35,
   "id": "b6e5ffaf",
   "metadata": {},
   "outputs": [
    {
     "name": "stdout",
     "output_type": "stream",
     "text": [
      "3\n"
     ]
    }
   ],
   "source": [
    "#logical shift right\n",
    "x=127 #1111111\n",
    "x>>=5 #11 (3)\n",
    "print(x)"
   ]
  },
  {
   "cell_type": "code",
   "execution_count": 36,
   "id": "9f822a7a",
   "metadata": {},
   "outputs": [
    {
     "name": "stdout",
     "output_type": "stream",
     "text": [
      "False\n",
      "True\n",
      "False\n",
      "True\n",
      "False\n",
      "True\n"
     ]
    }
   ],
   "source": [
    "#Comparision operators\n",
    "x=5\n",
    "y=6\n",
    "print(x==y)\n",
    "print(x!=y)\n",
    "print(x>=y)\n",
    "print(x<=y)\n",
    "print(x>y)\n",
    "print(x<y)"
   ]
  },
  {
   "cell_type": "code",
   "execution_count": 55,
   "id": "04baf44c",
   "metadata": {},
   "outputs": [
    {
     "name": "stdout",
     "output_type": "stream",
     "text": [
      "False\n",
      "True\n",
      "False\n"
     ]
    }
   ],
   "source": [
    "x=2\n",
    "print(x > 3 and x < 10) #True if both are True\n",
    "print(x > 3 or x < 10)  #True if any one is True\n",
    "print(not(x>1 and x<3)) #invert the output"
   ]
  },
  {
   "cell_type": "code",
   "execution_count": 59,
   "id": "1d3c92e5",
   "metadata": {},
   "outputs": [
    {
     "name": "stdout",
     "output_type": "stream",
     "text": [
      "True\n",
      "False\n",
      "False\n",
      "True\n"
     ]
    }
   ],
   "source": [
    "x = 'a'\n",
    "y = 5\n",
    "z = x\n",
    "print(x is z) # returns True because z is the same object as x\n",
    "print(x is y) # returns False because x is not the same object as y\n",
    "print(x is not z) # returns False because z is the same object as x \n",
    "print(x is not y) # returns True because x is not the same object as y"
   ]
  },
  {
   "cell_type": "code",
   "execution_count": 61,
   "id": "970aa06b",
   "metadata": {},
   "outputs": [
    {
     "name": "stdout",
     "output_type": "stream",
     "text": [
      "True\n",
      "False\n"
     ]
    }
   ],
   "source": [
    "x = \"banana\"\n",
    "print(\"a\" in x)\n",
    "print(\"a\" not in x)"
   ]
  },
  {
   "cell_type": "code",
   "execution_count": 72,
   "id": "68956fc9",
   "metadata": {},
   "outputs": [
    {
     "name": "stdout",
     "output_type": "stream",
     "text": [
      "1\n",
      "7\n",
      "6\n",
      "-4\n",
      "40\n",
      "0\n"
     ]
    }
   ],
   "source": [
    "x=5  #101\n",
    "y=3  #011\n",
    "print(x&y) #101&011=1\n",
    "print(x|y) #101|011=111(7)\n",
    "print(x^y) #101|011=110(6)\n",
    "print(~y)  #100 =-(4)\n",
    "print(x<<y) #logical shift left 101 by 3==>101000(40)\n",
    "print(x>>y) #logical shift right 101 by 3==>0\n"
   ]
  }
 ],
 "metadata": {
  "kernelspec": {
   "display_name": "Python 3 (ipykernel)",
   "language": "python",
   "name": "python3"
  },
  "language_info": {
   "codemirror_mode": {
    "name": "ipython",
    "version": 3
   },
   "file_extension": ".py",
   "mimetype": "text/x-python",
   "name": "python",
   "nbconvert_exporter": "python",
   "pygments_lexer": "ipython3",
   "version": "3.10.9"
  }
 },
 "nbformat": 4,
 "nbformat_minor": 5
}
