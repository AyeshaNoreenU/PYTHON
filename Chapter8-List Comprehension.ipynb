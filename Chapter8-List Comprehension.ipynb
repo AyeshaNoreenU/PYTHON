{
 "cells": [
  {
   "cell_type": "code",
   "execution_count": 1,
   "id": "0a8b263c",
   "metadata": {},
   "outputs": [
    {
     "name": "stdout",
     "output_type": "stream",
     "text": [
      "['ahseya', 'neeron', 'anas']\n",
      "['ahseya', 'neeron', 'anas']\n"
     ]
    }
   ],
   "source": [
    "#take a list that contain string of names and make a function that print reverse of each string\n",
    "#by simple method\n",
    "new_List=[]\n",
    "List=['ayesha','noreen','sana']\n",
    "def reverse(l):\n",
    "    for i in l:\n",
    "        new_List.append(i[::-1])\n",
    "    return new_List\n",
    "print(reverse(List))\n",
    "#by list comprehension\n",
    "def reverse2(l):\n",
    "    new_list=[i[::-1] for i in List]\n",
    "    return new_List\n",
    "print(reverse2(List))"
   ]
  },
  {
   "cell_type": "code",
   "execution_count": 2,
   "id": "7cbdf3c3",
   "metadata": {},
   "outputs": [
    {
     "name": "stdout",
     "output_type": "stream",
     "text": [
      "List of numbers is:[1, 2, 3, 4, 5, 6, 7, 8, 9, 10]\n",
      "Even numbers of list are:[2, 4, 6, 8, 10]\n",
      "Odd numbers of list are:[1, 3, 5, 7, 9]\n",
      "Even numbers of list are:[2, 4, 6, 8, 10]\n",
      "Odd numbers of list are:[1, 3, 5, 7, 9]\n"
     ]
    }
   ],
   "source": [
    "#if we want to seprate even and odd numbers of a list than by simple method\n",
    "numbers=list(range(1,11))\n",
    "print(f\"List of numbers is:{numbers}\")\n",
    "even_num=[]\n",
    "odd_num=[]\n",
    "even_num2=[]\n",
    "odd_num2=[]\n",
    "for i in numbers:\n",
    "    if i%2==0:\n",
    "        even_num.append(i)\n",
    "    else:\n",
    "        odd_num.append(i)\n",
    "print(f\"Even numbers of list are:{even_num}\")\n",
    "print(f\"Odd numbers of list are:{odd_num}\")\n",
    "#by list compresension\n",
    "even_num2=[i for i in numbers if i%2==0]\n",
    "odd_num2=[i for i in numbers if i%2!=0]\n",
    "print(f\"Even numbers of list are:{even_num2}\")\n",
    "print(f\"Odd numbers of list are:{odd_num2}\")"
   ]
  },
  {
   "cell_type": "code",
   "execution_count": 3,
   "id": "bb72b806",
   "metadata": {},
   "outputs": [
    {
     "name": "stdout",
     "output_type": "stream",
     "text": [
      "Original list is:[1, 2, True, False, 3.0, 'ayesha', 'A']\n",
      "number and float list from mixed is:['1', '2', '3.0']\n",
      "number and float list from mixed is:['1', '2', '3.0']\n"
     ]
    }
   ],
   "source": [
    "#Take a mixed list than make a function that prints only numbers and floats of this list\n",
    "#by simple method\n",
    "mixed=[1,2,True,False,3.0,'ayesha','A']\n",
    "numbers=[]\n",
    "numbers2=[]\n",
    "print(f\"Original list is:{mixed}\")\n",
    "def num(l):\n",
    "    for i in l:\n",
    "        if (type(i)==int or type(i)==float):\n",
    "            numbers.append(str(i))\n",
    "    return numbers\n",
    "print(f\"number and float list from mixed is:{num(mixed)}\")\n",
    "#by list comprehension\n",
    "def num2(l):\n",
    "    numbers2=[str(i) for i in l if(type(i)==int or type(i)==float)]\n",
    "    return numbers2        \n",
    "print(f\"number and float list from mixed is:{num2(mixed)}\")"
   ]
  },
  {
   "cell_type": "code",
   "execution_count": 4,
   "id": "f9fcd3c4",
   "metadata": {},
   "outputs": [
    {
     "name": "stdout",
     "output_type": "stream",
     "text": [
      "[-1, 4, -3, 8, -5, 12, -7, 16, -9, 20]\n",
      "[-1, 4, -3, 8, -5, 12, -7, 16, -9, 20]\n"
     ]
    }
   ],
   "source": [
    "#take a number list and than define a function that print -ve of number \n",
    "#if number is odd if even than multiply it by 2\n",
    "#by simple method\n",
    "new=[]\n",
    "new2=[]\n",
    "List=[1,2,3,4,5,6,7,8,9,10]\n",
    "def fun(l):\n",
    "    for i in l:\n",
    "        if i%2==0:\n",
    "            i=i*2\n",
    "            new.append(i)\n",
    "        else:\n",
    "            i=-i\n",
    "            new.append(i)\n",
    "    return new\n",
    "print(fun(List))\n",
    "#by list comprehension\n",
    "def fun2(l):\n",
    "    new2=[i*2 if (i%2==0) else -i for i in l]\n",
    "    return new2\n",
    "print(fun2(List))"
   ]
  },
  {
   "cell_type": "code",
   "execution_count": 5,
   "id": "9edbbbe1",
   "metadata": {},
   "outputs": [
    {
     "name": "stdout",
     "output_type": "stream",
     "text": [
      "[1, 2, 3],[1, 2, 3],[1, 2, 3],[[1, 2, 3], [1, 2, 3], [1, 2, 3]]\n"
     ]
    }
   ],
   "source": [
    "#nested list comprehension\n",
    "l=[[1,2,3],[1,2,3],[1,2,3]]\n",
    "#by simple method\n",
    "for i in l:\n",
    "    print(i, end=\",\")\n",
    "#by list comprehension\n",
    "list_comprehension=[[i for i in range(1,4)]for j in range(3)]    #[i for i in range(1,4)]this is which #we have to print than next is loop\n",
    "print(list_comprehension)\n",
    "#it prints[[1, 2, 3], [1, 2, 3], [1, 2, 3]] "
   ]
  }
 ],
 "metadata": {
  "kernelspec": {
   "display_name": "Python 3 (ipykernel)",
   "language": "python",
   "name": "python3"
  },
  "language_info": {
   "codemirror_mode": {
    "name": "ipython",
    "version": 3
   },
   "file_extension": ".py",
   "mimetype": "text/x-python",
   "name": "python",
   "nbconvert_exporter": "python",
   "pygments_lexer": "ipython3",
   "version": "3.10.9"
  }
 },
 "nbformat": 4,
 "nbformat_minor": 5
}
