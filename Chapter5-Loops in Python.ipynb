{
 "cells": [
  {
   "cell_type": "code",
   "execution_count": 1,
   "id": "1aac27fd",
   "metadata": {},
   "outputs": [
    {
     "name": "stdout",
     "output_type": "stream",
     "text": [
      "1\n",
      "2\n",
      "3\n",
      "4\n",
      "5\n",
      "6\n",
      "7\n",
      "8\n",
      "9\n",
      "10\n"
     ]
    }
   ],
   "source": [
    "i=1\n",
    "while i<=10:\n",
    "    print(i)\n",
    "    i+=1"
   ]
  },
  {
   "cell_type": "code",
   "execution_count": 2,
   "id": "880e7f73",
   "metadata": {},
   "outputs": [
    {
     "name": "stdout",
     "output_type": "stream",
     "text": [
      "Enter any number:5\n",
      "sum of numbers from 0 to 5 is:15\n"
     ]
    }
   ],
   "source": [
    "n=int(input(\"Enter any number:\"))\n",
    "sum=0\n",
    "i=1\n",
    "while i<=n:\n",
    "    sum+=i\n",
    "    i+=1\n",
    "print(f\"sum of numbers from 0 to {n} is:{sum}\")"
   ]
  },
  {
   "cell_type": "code",
   "execution_count": 3,
   "id": "213f12bb",
   "metadata": {},
   "outputs": [
    {
     "name": "stdout",
     "output_type": "stream",
     "text": [
      "Enter any number string number of digits should be greater than 1 i.e 1432:200\n",
      " sum of digits of number is:2\n"
     ]
    }
   ],
   "source": [
    "number=input(\"Enter any number string number of digits should be greater than 1 i.e 1432:\")\n",
    "n=len(number)\n",
    "i=0\n",
    "sum=0\n",
    "m=0\n",
    "while   i<n:\n",
    "    m=int(number[i])\n",
    "    sum+=m\n",
    "    i+=1\n",
    "print(f\" sum of digits of number is:{sum}\")"
   ]
  },
  {
   "cell_type": "code",
   "execution_count": 4,
   "id": "10da6248",
   "metadata": {},
   "outputs": [
    {
     "name": "stdout",
     "output_type": "stream",
     "text": [
      "Enter your name:ayesha noreen\n",
      "a is 2 times\n",
      "y is 1 times\n",
      "e is 3 times\n",
      "s is 1 times\n",
      "h is 1 times\n",
      "  is 1 times\n",
      "n is 2 times\n",
      "o is 1 times\n",
      "r is 1 times\n"
     ]
    }
   ],
   "source": [
    "name=input(\"Enter your name:\")\n",
    "i=0;\n",
    "n=len(name)\n",
    "temp=\"\"\n",
    "while i<n:\n",
    "    if name[i] not in temp:\n",
    "        temp+=name[i]\n",
    "        print(f\"{name[i]} is {name.count(name[i])} times\")\n",
    "    i+=1"
   ]
  },
  {
   "cell_type": "code",
   "execution_count": 5,
   "id": "a6abb8ad",
   "metadata": {},
   "outputs": [
    {
     "name": "stdout",
     "output_type": "stream",
     "text": [
      "1\n",
      "2\n",
      "3\n",
      "4\n",
      "5\n",
      "6\n",
      "7\n",
      "8\n",
      "9\n",
      "10\n"
     ]
    }
   ],
   "source": [
    "for index in range(1,11):\n",
    "    print(index)"
   ]
  },
  {
   "cell_type": "code",
   "execution_count": 6,
   "id": "c11c81dd",
   "metadata": {},
   "outputs": [
    {
     "name": "stdout",
     "output_type": "stream",
     "text": [
      "Enter any number:5\n",
      "5 X 1 = 5\n",
      "5 X 2 = 10\n",
      "5 X 3 = 15\n",
      "5 X 4 = 20\n",
      "5 X 5 = 25\n",
      "5 X 6 = 30\n",
      "5 X 7 = 35\n",
      "5 X 8 = 40\n",
      "5 X 9 = 45\n",
      "5 X 10 = 50\n"
     ]
    }
   ],
   "source": [
    "number=int(input('Enter any number:'))\n",
    "for index in range(1,11):\n",
    "    ans=number*index\n",
    "    print(number,'X',index,'=',ans)"
   ]
  },
  {
   "cell_type": "code",
   "execution_count": 7,
   "id": "ec430f93",
   "metadata": {},
   "outputs": [
    {
     "name": "stdout",
     "output_type": "stream",
     "text": [
      "0\n",
      "1\n",
      "2\n",
      "3\n",
      "4\n",
      "5\n"
     ]
    }
   ],
   "source": [
    "for i in range(0,11):\n",
    "    if i==6:\n",
    "        break\n",
    "    print(i)"
   ]
  },
  {
   "cell_type": "code",
   "execution_count": 8,
   "id": "8ca336f9",
   "metadata": {},
   "outputs": [
    {
     "name": "stdout",
     "output_type": "stream",
     "text": [
      "0\n",
      "1\n",
      "2\n",
      "3\n",
      "4\n",
      "5\n",
      "7\n",
      "8\n",
      "9\n",
      "10\n"
     ]
    }
   ],
   "source": [
    "for i in range(0,11):\n",
    "    if i==6:\n",
    "        continue\n",
    "    print(i)"
   ]
  },
  {
   "cell_type": "code",
   "execution_count": 9,
   "id": "7e25540c",
   "metadata": {},
   "outputs": [
    {
     "name": "stdout",
     "output_type": "stream",
     "text": [
      "**********************\n",
      "*Number Guessing Game*\n",
      "**********************\n",
      "Guess any number between 1-100:50\n",
      "😐😐😐you are too low😐😐😐\n",
      "Enter again80\n",
      "😐😐😐you are too low😐😐😐\n",
      "Enter again95\n",
      "😐😐😐You are too high😐😐😐\n",
      "Enter again85\n",
      "😐😐😐You are too high😐😐😐\n",
      "Enter again80\n",
      "😐😐😐you are too low😐😐😐\n",
      "Enter again83\n",
      "😃😃😃you win😃😃😃\n",
      "you attempts 6 times\n"
     ]
    }
   ],
   "source": [
    "import random\n",
    "i=1\n",
    "print(\"**********************\")\n",
    "print(\"*Number Guessing Game*\")\n",
    "print(\"**********************\")\n",
    "winning_number=random.randint(1,100)\n",
    "guessing_number=int(input(\"Guess any number between 1-100:\"))\n",
    "while guessing_number!=winning_number:\n",
    "    if guessing_number<winning_number:\n",
    "        print(\"\\U0001F610\\U0001F610\\U0001F610you are too low\\U0001F610\\U0001F610\\U0001F610\")\n",
    "        guessing_number=int(input(\"Enter again\")) \n",
    "        i+=1\n",
    "    elif guessing_number>winning_number:\n",
    "        print(\"\\U0001F610\\U0001F610\\U0001F610You are too high\\U0001F610\\U0001F610\\U0001F610\")\n",
    "        guessing_number=int(input(\"Enter again\")) \n",
    "        i+=1        \n",
    "    else:\n",
    "        print(\"Number is not in range\")\n",
    "if guessing_number==winning_number:\n",
    "    print(\"\\U0001F603\\U0001F603\\U0001F603you win\\U0001F603\\U0001F603\\U0001F603\")\n",
    "print(f\"you attempts {i} times\")"
   ]
  }
 ],
 "metadata": {
  "kernelspec": {
   "display_name": "Python 3 (ipykernel)",
   "language": "python",
   "name": "python3"
  },
  "language_info": {
   "codemirror_mode": {
    "name": "ipython",
    "version": 3
   },
   "file_extension": ".py",
   "mimetype": "text/x-python",
   "name": "python",
   "nbconvert_exporter": "python",
   "pygments_lexer": "ipython3",
   "version": "3.10.9"
  }
 },
 "nbformat": 4,
 "nbformat_minor": 5
}
