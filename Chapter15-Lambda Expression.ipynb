{
 "cells": [
  {
   "cell_type": "code",
   "execution_count": 4,
   "id": "491c1a80",
   "metadata": {},
   "outputs": [
    {
     "name": "stdout",
     "output_type": "stream",
     "text": [
      "15\n",
      "<function <lambda> at 0x00000267A5F357E0>\n"
     ]
    }
   ],
   "source": [
    "# a lambda function that return sum of 1st 5 numbers\n",
    "add=lambda a,b,c,d,e:a+b+c+d+e\n",
    "print(add(1,2,3,4,5))\n",
    "print(add)"
   ]
  },
  {
   "cell_type": "code",
   "execution_count": 6,
   "id": "5cfa80ed",
   "metadata": {},
   "outputs": [
    {
     "name": "stdout",
     "output_type": "stream",
     "text": [
      "False\n",
      "True\n"
     ]
    }
   ],
   "source": [
    "#define a function that take a number as parameter and chk if number is even or odd \n",
    "#through simple method\n",
    "def even_odd1(num):\n",
    "    return num%2==0\n",
    "print(even_odd1(5))\n",
    "#through lambda expression\n",
    "even_odd2=lambda num:num%2==0\n",
    "print(even_odd2(6))"
   ]
  },
  {
   "cell_type": "code",
   "execution_count": 14,
   "id": "c6d65532",
   "metadata": {},
   "outputs": [
    {
     "name": "stdout",
     "output_type": "stream",
     "text": [
      "a\n",
      "n\n"
     ]
    }
   ],
   "source": [
    "#Define a function that take a string and print last character of string.\n",
    "#through simple method\n",
    "def last_char(string):\n",
    "    return string[-1]\n",
    "print(last_char('ayesha'))\n",
    "#through lambda expression\n",
    "last_char2=lambda s:s[-1]\n",
    "print(last_char('noreen'))"
   ]
  },
  {
   "cell_type": "code",
   "execution_count": 13,
   "id": "f453de48",
   "metadata": {},
   "outputs": [
    {
     "name": "stdout",
     "output_type": "stream",
     "text": [
      "Greater\n"
     ]
    }
   ],
   "source": [
    "#If else in lambda expression\n",
    "#define a lambda expression that take a number and chk if number is greater than 5 than Greater otherwise less\n",
    "check_greater_less=lambda num:\"Greater\" if num>5 else \"less\"\n",
    "print(check_greater_less(6))"
   ]
  }
 ],
 "metadata": {
  "kernelspec": {
   "display_name": "Python 3 (ipykernel)",
   "language": "python",
   "name": "python3"
  },
  "language_info": {
   "codemirror_mode": {
    "name": "ipython",
    "version": 3
   },
   "file_extension": ".py",
   "mimetype": "text/x-python",
   "name": "python",
   "nbconvert_exporter": "python",
   "pygments_lexer": "ipython3",
   "version": "3.10.9"
  }
 },
 "nbformat": 4,
 "nbformat_minor": 5
}
