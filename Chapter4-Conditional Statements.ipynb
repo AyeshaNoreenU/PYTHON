{
 "cells": [
  {
   "cell_type": "code",
   "execution_count": 2,
   "id": "f7001d50",
   "metadata": {},
   "outputs": [
    {
     "name": "stdout",
     "output_type": "stream",
     "text": [
      "Enter your age:26\n",
      "You are above 14 years\n"
     ]
    }
   ],
   "source": [
    "age=int(input(\"Enter your age:\"))\n",
    "if age>=14:\n",
    "     print(\"You are above 14 years\")\n",
    "    #if nothing in if block than give error it can be removed by pass statement\n",
    "    #pass \n",
    "else:\t\n",
    "    print(\"you are below 14\")\n",
    "    #else statement cannot be alone it is always after if statement on the other hand if statement can be alone."
   ]
  },
  {
   "cell_type": "code",
   "execution_count": 7,
   "id": "ae42935a",
   "metadata": {},
   "outputs": [
    {
     "name": "stdout",
     "output_type": "stream",
     "text": [
      "Enter your age:56\n",
      "You are above 14 years and marks are 80\n"
     ]
    }
   ],
   "source": [
    "age=int(input(\"Enter your age:\"))\n",
    "marks=80\n",
    "if age>=14:\n",
    "    if(marks==80):\n",
    "        print(\"You are above 14 years and marks are 80\") \n",
    "    else:\n",
    "        print('marks not 80')\n",
    "else:\t\n",
    "    print(\"you are below 14 and marks not 80\")"
   ]
  },
  {
   "cell_type": "code",
   "execution_count": 5,
   "id": "4f2e49df",
   "metadata": {},
   "outputs": [
    {
     "name": "stdout",
     "output_type": "stream",
     "text": [
      "Enter your marks between 0-100:70\n",
      "you have B grad\n"
     ]
    }
   ],
   "source": [
    "marks=int(input(\"Enter your marks between 0-100:\"))\n",
    "if marks<0:\n",
    "    print(\"Marks can't be negative!!!\")\n",
    "elif marks>=0 and marks<=35:\n",
    "    print(\"you are fail!!!\")\n",
    "elif marks>35 and marks<=50:\n",
    "    print(\"you have C grad\")\n",
    "elif marks>50 and marks<85:\n",
    "    print(\"you have B grad\")\n",
    "elif marks>=85 and marks<=100:\n",
    "    print(\"you have A grad\")\n",
    "else:\n",
    "    print(\"Marks are out of range\")"
   ]
  },
  {
   "cell_type": "code",
   "execution_count": 11,
   "id": "d2a4b0e2",
   "metadata": {},
   "outputs": [
    {
     "name": "stdout",
     "output_type": "stream",
     "text": [
      "********!!!Play Game!!!********\n",
      "Enter your name:ayesha\n",
      "Enter your age:26\n",
      "Hooorayyy!!! You can Play Game\n"
     ]
    }
   ],
   "source": [
    "print(\"********!!!Play Game!!!********\")\n",
    "name=input(\"Enter your name:\")\n",
    "age=int(input(\"Enter your age:\"))\n",
    "if (name[0]=='a' or name[0]=='A') and age>=10:\n",
    "    print(\"Hooorayyy!!! You can Play Game\")\n",
    "else:\n",
    "    print(\"Sorry!!! You cannot Play Game\")\n"
   ]
  },
  {
   "cell_type": "code",
   "execution_count": 14,
   "id": "ee2f4e4b",
   "metadata": {},
   "outputs": [
    {
     "name": "stdout",
     "output_type": "stream",
     "text": [
      "*****Character GUESSING GAME*****\n",
      "Guess any character from (a to z):a\n",
      "You Win!!!\n"
     ]
    }
   ],
   "source": [
    "print(\"*****Character GUESSING GAME*****\")\n",
    "winning_character='a'\n",
    "guessing_character=input(\"Guess any character from (a to z):\")\n",
    "if guessing_character==winning_character:\n",
    "    print(\"You Win!!!\")\n",
    "else:\n",
    "    print('You lose')"
   ]
  },
  {
   "cell_type": "code",
   "execution_count": 16,
   "id": "a4c3a8db",
   "metadata": {},
   "outputs": [
    {
     "name": "stdout",
     "output_type": "stream",
     "text": [
      "Enter your name:ayesha\n",
      "Enter any character which you want to find out in name:a\n",
      " a is present\n"
     ]
    }
   ],
   "source": [
    "name=input(\"Enter your name:\")\n",
    "character=input(\"Enter any character which you want to find out in name:\")\n",
    "if character in name:\n",
    "    \tprint(f\" {character} is present\")\n",
    "else:\n",
    "    \tprint(f\"{character} is not present\")"
   ]
  },
  {
   "cell_type": "code",
   "execution_count": 17,
   "id": "9c77c1d7",
   "metadata": {},
   "outputs": [
    {
     "name": "stdout",
     "output_type": "stream",
     "text": [
      "Enter your name:\n",
      "You enter nothing\n"
     ]
    }
   ],
   "source": [
    "name=input(\"Enter your name:\")\n",
    "if name:\n",
    "        print(f\"your name is:{name}\")\n",
    "else:\n",
    "        print(\"You enter nothing\")"
   ]
  }
 ],
 "metadata": {
  "kernelspec": {
   "display_name": "Python 3 (ipykernel)",
   "language": "python",
   "name": "python3"
  },
  "language_info": {
   "codemirror_mode": {
    "name": "ipython",
    "version": 3
   },
   "file_extension": ".py",
   "mimetype": "text/x-python",
   "name": "python",
   "nbconvert_exporter": "python",
   "pygments_lexer": "ipython3",
   "version": "3.10.9"
  }
 },
 "nbformat": 4,
 "nbformat_minor": 5
}
