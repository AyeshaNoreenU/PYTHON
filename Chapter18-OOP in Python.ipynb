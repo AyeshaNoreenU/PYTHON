{
 "cells": [
  {
   "cell_type": "code",
   "execution_count": 4,
   "id": "25719218",
   "metadata": {},
   "outputs": [
    {
     "name": "stdout",
     "output_type": "stream",
     "text": [
      "Init method or constructor is called\n",
      "Init method or constructor is called\n",
      "Details of student1 are:\n",
      "Reg#:012\n",
      "Name:ayesha\n",
      "age:22\n"
     ]
    }
   ],
   "source": [
    "class Student:\n",
    "    def __init__(self,reg_no,name,age):\n",
    "        print(\"Init method or constructor is called\")\n",
    "        self.Name=name\n",
    "        self.Roll_no=reg_no\n",
    "        self.age=age\n",
    "s1=Student('012','ayesha',22)\n",
    "s2=Student('001','sana',19)\n",
    "print(\"Details of student1 are:\")\n",
    "print(f\"Reg#:{s1.Roll_no}\")\n",
    "print(f\"Name:{s1.Name}\")\n",
    "print(f\"age:{s1.age}\")"
   ]
  },
  {
   "cell_type": "code",
   "execution_count": 5,
   "id": "e064b79b",
   "metadata": {},
   "outputs": [
    {
     "name": "stdout",
     "output_type": "stream",
     "text": [
      "Init method or constructor is called\n",
      "Init method or constructor is called\n",
      "Details of Laptop1 are:\n",
      "Brand name:HP\n",
      "Model name:au114tm\n",
      "price:42000\n"
     ]
    }
   ],
   "source": [
    "#Define a class laptop which shows the brand name, model name and price of different laptops.\n",
    "class Laptop:\n",
    "    def __init__(self,brand_name,model_name,price):\n",
    "        print(\"Init method or constructor is called\")\n",
    "        self.bname=brand_name\n",
    "        self.mname=model_name\n",
    "        self.price=price\n",
    "l1=Laptop('HP','au114tm',42000)\n",
    "l2=Laptop('DELL','pj3467x6',40000)\n",
    "print(\"Details of Laptop1 are:\")\n",
    "print(f\"Brand name:{l1.bname}\")\n",
    "print(f\"Model name:{l1.mname}\")\n",
    "print(f\"price:{l1.price}\")"
   ]
  },
  {
   "cell_type": "code",
   "execution_count": 8,
   "id": "c3c78645",
   "metadata": {},
   "outputs": [
    {
     "name": "stdout",
     "output_type": "stream",
     "text": [
      "Brand name is:HP\n",
      "Model name is:au114tm\n",
      "Actual price is:42000\n",
      "Enter how many percent discount is available:50\n",
      "Price with discount is:21000.0\n",
      "Same discount on laptop2 is:60000.0\n"
     ]
    }
   ],
   "source": [
    "#Make a discount method that calculate discount on price according to given number.\n",
    "class Laptop:\n",
    "    def __init__(self,brand_name,model_name,price):\n",
    "        self.bname=brand_name\n",
    "        self.mname=model_name\n",
    "        self.price=price\n",
    "    def discount(self,num):\n",
    "        d=((self.price*num)/100)\n",
    "        p=self.price-d\n",
    "        return p\n",
    "l1=Laptop('HP','au114tm',42000)\n",
    "l2=Laptop('Apple','macbook pro',120000)\n",
    "print(f\"Brand name is:{l1.bname}\")\n",
    "print(f\"Model name is:{l1.mname}\")\n",
    "print(f\"Actual price is:{l1.price}\")\n",
    "n=int(input(\"Enter how many percent discount is available:\"))\n",
    "print(f\"Price with discount is:{l1.discount(n)}\")\n",
    "print(f\"Same discount on laptop2 is:{l2.discount(n)}\")"
   ]
  },
  {
   "cell_type": "code",
   "execution_count": 13,
   "id": "1b2f0890",
   "metadata": {},
   "outputs": [
    {
     "name": "stdout",
     "output_type": "stream",
     "text": [
      "Circumference of circle is:31.400000000000002\n",
      "{'r': 5}\n"
     ]
    }
   ],
   "source": [
    "class Circle:\n",
    "    pi=3.14 #this is attribute of class\n",
    "    def __init__(self,radius):\n",
    "        self.r=radius\n",
    "    def calculate_circumference(self):\n",
    "        return 2*Circle.pi*self.r\n",
    "c=Circle(5)\n",
    "print(f\"Circumference of circle is:{c.calculate_circumference()}\")\n",
    "print(c.__dict__)#it return a dictionary of all variables of object   "
   ]
  },
  {
   "cell_type": "code",
   "execution_count": 23,
   "id": "cb603ac4",
   "metadata": {},
   "outputs": [
    {
     "name": "stdout",
     "output_type": "stream",
     "text": [
      "Price with 10% discount on laptop is:108000.0\n",
      "Attributes of object for laptop are: {'Brand_name': 'Apple', 'Model_name': 'macbook pro', 'Price': 120000}\n"
     ]
    }
   ],
   "source": [
    "class Laptop:\n",
    "    discount=10\n",
    "    def __init__(self,brand_name,model_name,price):\n",
    "        self.Brand_name=brand_name\n",
    "        self.Model_name=model_name\n",
    "        self.Price=price\n",
    "    def discount(self,num):\n",
    "        d=((self.Price*num)/100)\n",
    "        p=self.Price-d\n",
    "        return p\n",
    "obj=Laptop('Apple','macbook pro',120000)\n",
    "print(f\"Price with 10% discount on laptop is:{obj.discount(10)}\")\n",
    "print('Attributes of object for laptop are:',obj.__dict__)"
   ]
  },
  {
   "cell_type": "code",
   "execution_count": 25,
   "id": "f74890ec",
   "metadata": {},
   "outputs": [
    {
     "name": "stdout",
     "output_type": "stream",
     "text": [
      "2\n",
      "3\n"
     ]
    }
   ],
   "source": [
    "#make a class  and  print how many objects class have.\n",
    "class Person:\n",
    "    count=0\n",
    "    def __init__(self):\n",
    "        Person.count+=1\n",
    "p1=Person()\n",
    "p1=Person()\n",
    "print(Person.count)\n",
    "p2=Person()\n",
    "print(Person.count)"
   ]
  },
  {
   "cell_type": "code",
   "execution_count": 26,
   "id": "09c749d7",
   "metadata": {},
   "outputs": [
    {
     "name": "stdout",
     "output_type": "stream",
     "text": [
      "your full name is Ayesha Noreen\n",
      "your full name is Sana Rehman\n",
      "You are created 2 objects\n"
     ]
    }
   ],
   "source": [
    "class Person:              #it is good convension to use 1st capital letter of class\n",
    "    count_instance=0       #it is class variable or attribute \n",
    "    def __init__(self,fname,lname): #it is constructor of class which is always call when object is made\n",
    "        Person.count_instance+=1    #these are instance variables\n",
    "        self.first_name=fname\n",
    "        self.last_name=lname\n",
    "    def fullname(self):  #it is class instance which always have first argument self which is object\n",
    "        return f\"your full name is {self.first_name} {self.last_name}\"\n",
    "    @classmethod         #for use of class method this decorator is first declare\n",
    "    def count_instances(cls): #this is class method which always have 1st argument cls which is a class\n",
    "        return f\"You are created {cls.count_instance} objects\"\n",
    "p1=Person(\"Ayesha\",\"Noreen\")   #this is object of class\n",
    "print(p1.fullname())  #we call instance methods through object\n",
    "p1=Person(\"Sana\",\"Rehman\")\n",
    "print(p1.fullname())\n",
    "print(Person.count_instances())  #we can call class method through class name"
   ]
  },
  {
   "cell_type": "code",
   "execution_count": 31,
   "id": "788fd5a4",
   "metadata": {
    "run_control": {
     "marked": true
    }
   },
   "outputs": [
    {
     "name": "stdout",
     "output_type": "stream",
     "text": [
      "your full name is Ayesha Noreen\n",
      "You are created 1 objects\n",
      "your full name is Rimsha Noreen\n"
     ]
    }
   ],
   "source": [
    "class Person:              \n",
    "    count_instance=0       \n",
    "    def __init__(self,fname,lname): #it is constructor of class which is always call when object is made\n",
    "        Person.count_instance+=1\n",
    "        self.first_name=fname\n",
    "        self.last_name=lname      \n",
    "    def fullname(self):   #it is class instance which always have first argument self which is object of class\n",
    "        return f\"your full name is {self.first_name} {self.last_name}\"\n",
    "    @classmethod\n",
    "    def from_string(cls,string): #this is our own defined constructor\n",
    "        fname,lname=string.split(\",\")\n",
    "        return cls(fname,lname)\n",
    "    @classmethod    #for use of class method this decorator is first declare\n",
    "    def count_instances(cls): #this is class method which always have 1st argument cls which is a class\n",
    "        return f\"You are created {cls.count_instance} objects\"\n",
    "p1=Person(\"Ayesha\",\"Noreen\")   #this is object of class\n",
    "print(p1.fullname())  #we call instance methods through object\n",
    "print(Person.count_instances())  #we can call class method through class name\n",
    "p2=Person.from_string(\"Rimsha,Noreen\") #if we want to create our own consructor than\n",
    "print(p2.fullname())"
   ]
  },
  {
   "cell_type": "code",
   "execution_count": 2,
   "id": "f963a903",
   "metadata": {},
   "outputs": [
    {
     "name": "stdout",
     "output_type": "stream",
     "text": [
      "Hello!!Static method is called\n"
     ]
    }
   ],
   "source": [
    "#static method\n",
    "class Person:             \n",
    "    @staticmethod\n",
    "    def normal():\n",
    "        print(\"Hello!!Static method is called\")\n",
    "obj=Person()\n",
    "obj.normal()"
   ]
  },
  {
   "cell_type": "code",
   "execution_count": 3,
   "id": "5dc0b075",
   "metadata": {},
   "outputs": [
    {
     "name": "stdout",
     "output_type": "stream",
     "text": [
      "calling ..........03007896345\n",
      "brand SAMSUNG model name SM-G5 and  price 20000\n"
     ]
    }
   ],
   "source": [
    "class Phone:\n",
    "    def __init__(self,brand,model_name,price):\n",
    "        self.b=brand\n",
    "        self.mn=model_name\n",
    "        self.p=price\n",
    "        self.complete_specification=f\"brand {self.b} model name {self.mn} and  price {self.p}\"\n",
    "    def phone(self,phone_number):\n",
    "        print(f\"calling ..........{phone_number}\")\n",
    "    def fullname(self):\n",
    "        print(f\"{self.complete_specification}\")\n",
    "p1=Phone(\"SAMSUNG\",\"SM-G5\",20000)\n",
    "p1.phone(\"03007896345\")\n",
    "p1.fullname()"
   ]
  },
  {
   "cell_type": "code",
   "execution_count": 4,
   "id": "690b7de2",
   "metadata": {},
   "outputs": [
    {
     "name": "stdout",
     "output_type": "stream",
     "text": [
      "calling ..........03007896345\n",
      "brand Nokia model name 1100 and  price 500\n",
      "<bound method Phone.complete_specification of <__main__.Phone object at 0x0000017402BD9F60>>\n"
     ]
    }
   ],
   "source": [
    "#name mangling\n",
    "class Phone:\n",
    "    def __init__(self,brand,model_name,price):\n",
    "        self.b=brand\n",
    "        self.mn=model_name\n",
    "        if price>0:\n",
    "            self.p=price\n",
    "        else:\n",
    "            self.p=0 #now it take no -ve value if user enter -ve value than it set price=0\n",
    "        #beside using if else statement we can also use a trick whose working is same as if else as\n",
    "        #self.p=max(price,0) if we enter +ve price  oveiously it is maximum than 0 so it take if -ve\n",
    "        #it is less than 0 so it take greaterb value which is 0 in this case\n",
    "    def phone(self,phone_number):\n",
    "        print(f\"calling ..........{phone_number}\")\n",
    "    def fullname(self):\n",
    "        print(f\"{self.complete_specification}\")\n",
    "    #@property\n",
    "    def complete_specification(self):\n",
    "        return f\"brand {self.b} model name {self.mn} and  price {self.p}\"\n",
    "p1=Phone(\"SAMSUNG\",\"SM-G5\",20000)\n",
    "p2=Phone(\"Nokia\",\"1100\",-1100) #here first problem is if we pass negative price than \n",
    "#it print but negative price have no value so if we want to prevent from negative price\n",
    "#than apply condition       \n",
    "p2.p=500  #here 2nd problem is that if we updtae price than it have no change in object value\n",
    "#to solve this we make a seprate function of complete specification\n",
    "p2.phone(\"03007896345\")\n",
    "print(p2.complete_specification())\n",
    "print(p2.complete_specification)   #we can also treate this function as a variable but we have to use @property\n",
    "#now it prints updated value\n",
    "#output\n",
    "#calling ..........03007896345\n",
    "#brand Nokia model name 1100 and  price 500"
   ]
  },
  {
   "cell_type": "code",
   "execution_count": null,
   "id": "48cffbe1",
   "metadata": {},
   "outputs": [],
   "source": [
    "#Getter and setter in python\n",
    "class Phone:\n",
    "    def __init__(self,brand,model_name,price):\n",
    "        self.b=brand\n",
    "        self.mn=model_name\n",
    "        if price>0:\n",
    "            self.p=price\n",
    "        else:\n",
    "            self.p=0\n",
    "    def fullname(self):\n",
    "        print(f\"{self.complete_specification}\")\n",
    "    @property\n",
    "    def complete_specification(self):\n",
    "        return f\"brand {self.b} model name {self.mn} and  price {self.p}\"\n",
    "    @property   #it works as getter property\n",
    "    def p(self):\n",
    "        return self.p\n",
    "    @p.setter\n",
    "    def p(self,new_price):\n",
    "        self.p=max(new_price,0)\n",
    "p2=Phone(\"Nokia\",\"1100\",-1100)        \n",
    "p2.p=-500  #here there is still a problem here it update again -ve value from avoid this we use getter & setter  \n",
    "print(p2.complete_specification())\n",
    "print(p2.complete_specification)"
   ]
  },
  {
   "cell_type": "code",
   "execution_count": 2,
   "id": "b0625797",
   "metadata": {},
   "outputs": [
    {
     "name": "stdout",
     "output_type": "stream",
     "text": [
      "Brand is:SAMSUNG\n",
      "Model name is:SMG5\n",
      "price is:20000\n",
      "Memory is:6GB\n",
      "RAM is:4GB\n"
     ]
    }
   ],
   "source": [
    "#inheritance\n",
    "class Phone:\n",
    "    def __init__(self,brand,model_name,price):\n",
    "        self.brand=brand\n",
    "        self.model_name=model_name\n",
    "        self.price=max(price,0)\n",
    "class Smartphone(Phone):\n",
    "    def __init__(self,brand,model_name,price,memory,ram):\n",
    "        #Phone.__init__(self,brand,model_name,price) #1st way is uncommon way \n",
    "        super().__init__(brand,model_name,price) #same init as super class\n",
    "        self.memory=memory\n",
    "        self.ram=ram\n",
    "p1=Smartphone('SAMSUNG','SMG5',20000,'6GB','4GB')\n",
    "print(f\"Brand is:{p1.brand}\")\n",
    "print(f\"Model name is:{p1.model_name}\")\n",
    "print(f\"price is:{p1.price}\")\n",
    "print(f\"Memory is:{p1.memory}\")\n",
    "print(f\"RAM is:{p1.ram}\")"
   ]
  },
  {
   "cell_type": "code",
   "execution_count": 1,
   "id": "67305f52",
   "metadata": {},
   "outputs": [
    {
     "name": "stdout",
     "output_type": "stream",
     "text": [
      "Brand is:SAMSUNG\n",
      "Model name is:SMG5\n",
      "price is:20000\n",
      "memory is:6GB\n",
      "RAM is:4GB\n",
      "Front camera  is:MP2\n",
      "Back camera is:MP4\n",
      "calling ..........03004567890\n",
      "None\n",
      "Full name is:SAMSUNG SMG5 20000\n",
      "None\n"
     ]
    }
   ],
   "source": [
    "#multilevel inheritance\n",
    "class Phone:\n",
    "    def __init__(self,brand,model_name,price):\n",
    "        self.brand=brand\n",
    "        self.model_name=model_name\n",
    "        self.price=max(price,0)\n",
    "        self.complete_specification= f\"Full name is:{brand} {model_name} {price}\"\n",
    "    def phone(self,phone_number):\n",
    "        print(f\"calling ..........{phone_number}\")\n",
    "    def fullname(self):\n",
    "        print(f\"{self.complete_specification}\")\n",
    "class Smartphone(Phone):\n",
    "    def __init__(self,brand,model_name,price,memory,ram):\n",
    "        #Phone.__init__(self,brand,model_name,price) #1st way is uncommon way \n",
    "        super().__init__(brand,model_name,price)\n",
    "        self.memory=memory\n",
    "        self.ram=ram\n",
    "class Supersmartphone(Smartphone):\n",
    "    def __init__(self,brand,model_name,price,memory,ram,front_camera,back_camera):\n",
    "        super().__init__(brand,model_name,price,memory,ram)\n",
    "        self.front_camera=front_camera\n",
    "        self.back_camera=back_camera\n",
    "p1=Supersmartphone('SAMSUNG','SMG5',20000,'6GB','4GB','MP2','MP4')\n",
    "print(f\"Brand is:{p1.brand}\")\n",
    "print(f\"Model name is:{p1.model_name}\")\n",
    "print(f\"price is:{p1.price}\")\n",
    "print(f\"memory is:{p1.memory}\")\n",
    "print(f\"RAM is:{p1.ram}\")\n",
    "print(f\"Front camera  is:{p1.front_camera}\")\n",
    "print(f\"Back camera is:{p1.back_camera}\")\n",
    "print(p1.phone(\"03004567890\"))\n",
    "print(p1.fullname())"
   ]
  },
  {
   "cell_type": "code",
   "execution_count": 7,
   "id": "3d75bc14",
   "metadata": {},
   "outputs": [
    {
     "name": "stdout",
     "output_type": "stream",
     "text": [
      "Help on class Phone in module __main__:\n",
      "\n",
      "class Phone(builtins.object)\n",
      " |  Phone(brand, model_name, price)\n",
      " |  \n",
      " |  Methods defined here:\n",
      " |  \n",
      " |  __init__(self, brand, model_name, price)\n",
      " |      Initialize self.  See help(type(self)) for accurate signature.\n",
      " |  \n",
      " |  fullname(self)\n",
      " |  \n",
      " |  phone(self, phone_number)\n",
      " |  \n",
      " |  ----------------------------------------------------------------------\n",
      " |  Data descriptors defined here:\n",
      " |  \n",
      " |  __dict__\n",
      " |      dictionary for instance variables (if defined)\n",
      " |  \n",
      " |  __weakref__\n",
      " |      list of weak references to the object (if defined)\n",
      "\n"
     ]
    }
   ],
   "source": [
    "class Phone:\n",
    "    def __init__(self,brand,model_name,price):\n",
    "        self.brand=brand\n",
    "        self.model_name=model_name\n",
    "        self.price=max(price,0)\n",
    "        self.complete_specification= f\"Full name is:{brand} {model_name}{price}\"\n",
    "    def phone(self,phone_number):\n",
    "        print(f\"calling ..........{phone_number}\")\n",
    "    def fullname(self):\n",
    "        print(f\"{self.complete_specification}\")\n",
    "help(Phone)"
   ]
  },
  {
   "cell_type": "code",
   "execution_count": 2,
   "id": "abe062a5",
   "metadata": {},
   "outputs": [
    {
     "name": "stdout",
     "output_type": "stream",
     "text": [
      "Complete specification of smart phone is:SAMSUNG SM-G5 20000 6GB 4GB\n",
      "None\n"
     ]
    }
   ],
   "source": [
    "#overriding\n",
    "class Phone:\n",
    "    def __init__(self,brand,model_name,price):\n",
    "        self.brand=brand\n",
    "        self.model_name=model_name\n",
    "        self.price=max(price,0)\n",
    "        self.complete_specification= f\"Full name is:{brand} {model_name} {price}\"\n",
    "    def phone(self,phone_number):\n",
    "        print(f\"calling ..........{phone_number}\")\n",
    "    def fullname(self):\n",
    "        print(f\"{self.complete_specification}\")\n",
    "class Smartphone(Phone):\n",
    "    def __init__(self,brand,model_name,price,memory,ram):\n",
    "        super().__init__(brand,model_name,price)\n",
    "        self.memory=memory\n",
    "        self.ram=ram\n",
    "    def fullname(self):\n",
    "        print(f\"Complete specification of smart phone is:{self.brand} {self.model_name} {self.price} {self.memory} {self.ram}\")\n",
    "p1=Smartphone(\"SAMSUNG\",\"SM-G5\",20000,\"6GB\",\"4GB\")  \n",
    "print(p1.fullname()) "
   ]
  },
  {
   "cell_type": "code",
   "execution_count": 11,
   "id": "1ff0f64f",
   "metadata": {},
   "outputs": [
    {
     "name": "stdout",
     "output_type": "stream",
     "text": [
      "This is parent class\n",
      "True\n",
      "False\n",
      "True\n",
      "False\n"
     ]
    }
   ],
   "source": [
    "#is instance and is subclass methods\n",
    "class Parent:\n",
    "    def method1(self):\n",
    "        print(\"This is parent class\")\n",
    "class Child(Parent):\n",
    "    def method2(self):\n",
    "        print(\"This is child class\")\n",
    "\n",
    "p1=Parent() \n",
    "p1.method1()\n",
    "print(isinstance(p1,Parent))    \n",
    "print(isinstance(p1,Child))     \n",
    "print(issubclass(Child,Parent))  \n",
    "print(issubclass(Parent,Child))  "
   ]
  },
  {
   "cell_type": "code",
   "execution_count": 12,
   "id": "1c48535f",
   "metadata": {},
   "outputs": [
    {
     "name": "stdout",
     "output_type": "stream",
     "text": [
      "Hello I am class A\n",
      "Hello I am class B\n",
      "Hello I am class c\n",
      "I am class A hello method\n"
     ]
    }
   ],
   "source": [
    "#multiple inheritance\n",
    "class A:\n",
    "    def class_a_method(self):\n",
    "        print(\"Hello I am class A\")\n",
    "    def hello(self):\n",
    "        print(\"I am class A hello method\")\n",
    "class B:\n",
    "    def class_b_method(self):\n",
    "        print(\"Hello I am class B\")\n",
    "    def hello(self):\n",
    "        print(\"I am class B hello method\")\n",
    "class C(A,B):\n",
    "    def class_c_method(self):\n",
    "        print(\"Hello I am class c\")\n",
    "obj1=C()\n",
    "obj1.class_a_method()\n",
    "obj1.class_b_method()\n",
    "obj1.class_c_method()\n",
    "obj1.hello()"
   ]
  },
  {
   "cell_type": "code",
   "execution_count": 43,
   "id": "fd02b330",
   "metadata": {},
   "outputs": [
    {
     "name": "stdout",
     "output_type": "stream",
     "text": [
      "Ayesha Noreen \n",
      "Ayesha Noreen \n",
      "Ayesha \n",
      "12\n"
     ]
    }
   ],
   "source": [
    "#__str__(),__repr__(),__len__()\n",
    "class C:\n",
    "    def __init__(self,a,b):\n",
    "        self.a=a\n",
    "        self.b=b\n",
    "    def __str__(self):\n",
    "        return f\"{self.a} {self.b} \"\n",
    "    def __repr__(self):\n",
    "        return f\"{self.a} \"\n",
    "    def __len__(self):\n",
    "        al=len(self.a)\n",
    "        bl=len(self.b)\n",
    "        ans=al+bl\n",
    "        return ans\n",
    "obj=C(\"Ayesha\",\"Noreen\")\n",
    "print(obj)\n",
    "print(str(obj))  #actually (obj.__str__()) is called\n",
    "print(repr(obj)) #(obj.__repr__()) is called\n",
    "print(len(obj))"
   ]
  },
  {
   "cell_type": "code",
   "execution_count": 27,
   "id": "4ed5517e",
   "metadata": {},
   "outputs": [
    {
     "name": "stdout",
     "output_type": "stream",
     "text": [
      "Addition of prices for phone1 and phone2 are: 35000\n",
      "Multiplication of prices for phone1 and phone2 are: 300000000\n"
     ]
    }
   ],
   "source": [
    "#__add__() and __mul__() methods\n",
    "class Phone:\n",
    "    def __init__(self,brand,model,price):\n",
    "        self.brand=brand\n",
    "        self.model=model\n",
    "        self.price=price\n",
    "    def __add__(self,self2):\n",
    "        return self.price+self2.price\n",
    "    def __mul__(self,self2):\n",
    "        return self.price*self2.price\n",
    "p1=Phone('SAMSUNG','SM-G5',20000)\n",
    "p2=Phone('SAMSUNG2','sm_j5',15000)\n",
    "print('Addition of prices for phone1 and phone2 are:',p1+p2)  \n",
    "print('Multiplication of prices for phone1 and phone2 are:',p1*p2)"
   ]
  }
 ],
 "metadata": {
  "kernelspec": {
   "display_name": "Python 3 (ipykernel)",
   "language": "python",
   "name": "python3"
  },
  "language_info": {
   "codemirror_mode": {
    "name": "ipython",
    "version": 3
   },
   "file_extension": ".py",
   "mimetype": "text/x-python",
   "name": "python",
   "nbconvert_exporter": "python",
   "pygments_lexer": "ipython3",
   "version": "3.10.9"
  }
 },
 "nbformat": 4,
 "nbformat_minor": 5
}
