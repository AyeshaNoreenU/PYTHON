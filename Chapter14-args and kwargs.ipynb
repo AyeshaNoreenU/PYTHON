{
 "cells": [
  {
   "cell_type": "code",
   "execution_count": 1,
   "id": "8c53f31e",
   "metadata": {},
   "outputs": [
    {
     "name": "stdout",
     "output_type": "stream",
     "text": [
      "(1, 2, 3, 4, 5)\n",
      "<class 'tuple'>\n",
      "15\n"
     ]
    }
   ],
   "source": [
    "def sum(*args):   #here we can pasa any name e.g *numbers but args mean arguments is best\n",
    "    print(args)  #it contains a tuple of all values that we pass in function call\n",
    "    print(type(args))  #its type is <class  'tuple'>\n",
    "    total=0\n",
    "    for i in args:\n",
    "        total+=i\n",
    "    return total  \n",
    "print(sum(1,2,3,4,5))   #it prints 15 we can take many values according to our need"
   ]
  },
  {
   "cell_type": "code",
   "execution_count": 3,
   "id": "5f8b6443",
   "metadata": {},
   "outputs": [
    {
     "name": "stdout",
     "output_type": "stream",
     "text": [
      "12\n",
      "1\n"
     ]
    }
   ],
   "source": [
    "def multiply(num1,num2,*args):\n",
    "    mul=1\n",
    "    for i in args:\n",
    "        mul*=i\n",
    "    return mul\n",
    "print(multiply(1,2,6,2,1))  #it prints 12=6*2*1  \n",
    "print(multiply(3,4))#it return 1 bcz 3 is num1 and 4 is num2 \n",
    "#print(multiply()) #error because we must have to pass 2 or 3 arguments"
   ]
  },
  {
   "cell_type": "code",
   "execution_count": 4,
   "id": "2798b527",
   "metadata": {},
   "outputs": [
    {
     "name": "stdout",
     "output_type": "stream",
     "text": [
      "[1, 3, 1, 6, 2]\n",
      "1 3 1 6 2\n",
      "36\n"
     ]
    }
   ],
   "source": [
    "def multiply(*args):\n",
    "    mul=1\n",
    "    for i in args:\n",
    "        mul*=i\n",
    "    return mul\n",
    "numbers=[1,3,1,6,2]\n",
    "print(multiply(numbers))   #it prints [1, 3, 1, 6, 2] multiply function does not work\n",
    "print(*numbers)    # it prints 1 3 1 6 2 mean by use of * list becomes unpack\n",
    "print(multiply(*numbers)) #it prints 36 bcz now list is unpack and multiply function works"
   ]
  },
  {
   "cell_type": "code",
   "execution_count": 6,
   "id": "4fed65c0",
   "metadata": {},
   "outputs": [
    {
     "name": "stdout",
     "output_type": "stream",
     "text": [
      "[1, 4, 9]\n"
     ]
    }
   ],
   "source": [
    "#define a function that takes a nummber and args as paramters and print each element of \n",
    "#list raised to the power of number\n",
    "def power(num,*args):\n",
    "    if args:\n",
    "        return [i**num for i in args]\n",
    "    else:\n",
    "        return \"you did not pass any args\"\n",
    "print(power(2,*[1,2,3]))\n",
    "#it prints[1,4,9]"
   ]
  },
  {
   "cell_type": "code",
   "execution_count": 23,
   "id": "07462d56",
   "metadata": {},
   "outputs": [
    {
     "name": "stdout",
     "output_type": "stream",
     "text": [
      "{'name': 'ayesha', 'age': 22}\n"
     ]
    }
   ],
   "source": [
    "def fun(**kwarg):\n",
    "    print(kwarg)\n",
    "d={\n",
    "    'name':'ayesha',\n",
    "    'age':22\n",
    "}\n",
    "fun(**d)"
   ]
  },
  {
   "cell_type": "code",
   "execution_count": 26,
   "id": "48dd92cd",
   "metadata": {},
   "outputs": [
    {
     "name": "stdout",
     "output_type": "stream",
     "text": [
      "key is=name1:value is=ayesha\n",
      "key is=name2:value is=noreen\n",
      "key is=name3:value is=sana\n"
     ]
    }
   ],
   "source": [
    "def fun(name,**kwarg):\n",
    "    for  k,v in kwarg.items():\n",
    "        print(f\"key is={k}:value is={v}\")\n",
    "names={'name1':'ayesha','name2':'noreen','name3':'sana'}\n",
    "fun('Adnan',**names)"
   ]
  },
  {
   "cell_type": "code",
   "execution_count": 30,
   "id": "d4cf2175",
   "metadata": {},
   "outputs": [
    {
     "name": "stdout",
     "output_type": "stream",
     "text": [
      "normal parameter is=ayesha\n",
      "*args is=(1, 2, 3)\n",
      "Default parameter is=Ayesha and none\n",
      "**kwarg is={'last_name': 'Noreen', 'age': 22}\n",
      "None\n"
     ]
    }
   ],
   "source": [
    "# Function with all type of parameters\n",
    "def fun(name,*args,dname1='unknown',dname2='none',**kwarg):\n",
    "    print(f\"normal parameter is={name}\")\n",
    "    print(f\"*args is={args}\")\n",
    "    print(f\"Default parameter is={dname1} and {dname2}\")\n",
    "    print(f\"**kwarg is={kwarg}\")\n",
    "print(fun('ayesha',1,2,3,dname1='Ayesha',last_name='Noreen',age=22))"
   ]
  },
  {
   "cell_type": "code",
   "execution_count": 31,
   "id": "30c78ebd",
   "metadata": {},
   "outputs": [
    {
     "name": "stdout",
     "output_type": "stream",
     "text": [
      "['Ayesha', 'Noreen', 'Sana', 'Rehman']\n",
      "['Ahseya', 'Neeron', 'Anas', 'Namher']\n"
     ]
    }
   ],
   "source": [
    "#Make a function that take either 1 or 2 arguments 1st argument is a list and \n",
    "#2nd argument is reverse_str=True if only 1 argument take than print list with\n",
    "#1st letter capital and if 2 arguments than print both list with 1st letter capital and\n",
    "#reverse string with 1st letter capital.\n",
    "def fun(l,**kwarg):\n",
    "    if kwarg.get('reverse_str')==True:\n",
    "        return[i[::-1].title() for i in l]\n",
    "    else:\n",
    "        return [name.title() for name in l]\n",
    "names=['ayesha','noreen','sana','rehman']\n",
    "print(fun(names))\n",
    "print(fun(names,reverse_str=True))"
   ]
  },
  {
   "cell_type": "code",
   "execution_count": null,
   "id": "a46782d0",
   "metadata": {},
   "outputs": [],
   "source": []
  }
 ],
 "metadata": {
  "kernelspec": {
   "display_name": "Python 3 (ipykernel)",
   "language": "python",
   "name": "python3"
  },
  "language_info": {
   "codemirror_mode": {
    "name": "ipython",
    "version": 3
   },
   "file_extension": ".py",
   "mimetype": "text/x-python",
   "name": "python",
   "nbconvert_exporter": "python",
   "pygments_lexer": "ipython3",
   "version": "3.10.9"
  }
 },
 "nbformat": 4,
 "nbformat_minor": 5
}
