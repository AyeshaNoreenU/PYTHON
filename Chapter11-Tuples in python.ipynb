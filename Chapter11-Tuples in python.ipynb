{
 "cells": [
  {
   "cell_type": "code",
   "execution_count": 1,
   "id": "a30c4cf4",
   "metadata": {},
   "outputs": [
    {
     "name": "stdout",
     "output_type": "stream",
     "text": [
      "3\n",
      "3\n",
      "7\n",
      "(3, 4, 3)\n"
     ]
    }
   ],
   "source": [
    "numbers=(1,2,3,4,3,3,4)\n",
    "print(numbers.count(3))   #counts number of 3 is tuple which is 3\n",
    "print(numbers.index(4))   #prints index of 4 which is 3\n",
    "print(len(numbers))       #prints length of tuple which is 7\n",
    "print(numbers[2:5])       #print tuple from 2nd index to 5th-1=4th"
   ]
  },
  {
   "cell_type": "code",
   "execution_count": 2,
   "id": "66138bbf",
   "metadata": {},
   "outputs": [
    {
     "name": "stdout",
     "output_type": "stream",
     "text": [
      "<class 'int'>\n",
      "<class 'tuple'>\n",
      "<class 'str'>\n",
      "<class 'tuple'>\n"
     ]
    }
   ],
   "source": [
    "number=(1)\n",
    "print(type(number))     #prints type is int\n",
    "number=(1,)\n",
    "print(type(number))     #gives type is tuple\n",
    "name=('ayesha')\n",
    "print(type(name))     #gives type is string\n",
    "name=('ayesha',)\n",
    "print(type(number))     #gives type is tuple\n"
   ]
  },
  {
   "cell_type": "code",
   "execution_count": 3,
   "id": "d8d119fa",
   "metadata": {},
   "outputs": [
    {
     "name": "stdout",
     "output_type": "stream",
     "text": [
      "1\n",
      "2\n",
      "3\n",
      "4.0\n",
      "ayesha\n"
     ]
    }
   ],
   "source": [
    "#tuple unpacking\n",
    "mixed=(1,2,3,4.0,'ayesha')\n",
    "num1,num2,num3,num4,string=(mixed)\n",
    "print(num1)    #prints 1\n",
    "print(num2)    #prints 2\n",
    "print(num3)    #prints 3\n",
    "print(num4)    #prints 4.0\n",
    "print(string)    #prints ayesha"
   ]
  },
  {
   "cell_type": "code",
   "execution_count": 4,
   "id": "6bd91326",
   "metadata": {},
   "outputs": [
    {
     "name": "stdout",
     "output_type": "stream",
     "text": [
      "(1, 2, 3, 4, 5, 6.0, 'ayesha', ['ayesha', 'noreen'])\n",
      "(1, 2, 3, 4, 5, 6.0, 'ayesha', ['ayesha', 'noreen', 'sana rehman'])\n",
      "5\n",
      "1\n",
      "15\n"
     ]
    }
   ],
   "source": [
    "#list inside tuple\n",
    "mixed=(1,2,3,4,5,6.0,'ayesha',['ayesha','noreen','sana'])\n",
    "mixed[7].pop()\n",
    "print(mixed)  #it prints (1,2,3,4,5,6.0,'ayesha',['ayesha','noreen'])\n",
    "mixed[7].append('sana rehman')\n",
    "print(mixed)  #it prints (1,2,3,4,5,6.0,'ayesha',['ayesha','noreen','sana rehman'])\n",
    "numbers=(1,2,3,4,5)\n",
    "print(max(numbers))   #prints 5\n",
    "print(min(numbers))   #prints 1\n",
    "print(sum(numbers))   #prints 15"
   ]
  },
  {
   "cell_type": "code",
   "execution_count": 6,
   "id": "ade7e3ef",
   "metadata": {},
   "outputs": [
    {
     "name": "stdout",
     "output_type": "stream",
     "text": [
      "<class 'tuple'>\n",
      "7\n",
      "10\n"
     ]
    }
   ],
   "source": [
    "def fun(num1,num2):\n",
    "    add=num1+num2\n",
    "    mul=num1*num2\n",
    "    return add,mul\n",
    "#print(fun(5,5))    #it prints a tuple(10,25)\n",
    "addition,multiply=(fun(5,2))\n",
    "print(type(fun(5,2)))\n",
    "print(addition)    #prints 7\n",
    "print(multiply)    #prints 10"
   ]
  }
 ],
 "metadata": {
  "kernelspec": {
   "display_name": "Python 3 (ipykernel)",
   "language": "python",
   "name": "python3"
  },
  "language_info": {
   "codemirror_mode": {
    "name": "ipython",
    "version": 3
   },
   "file_extension": ".py",
   "mimetype": "text/x-python",
   "name": "python",
   "nbconvert_exporter": "python",
   "pygments_lexer": "ipython3",
   "version": "3.10.9"
  }
 },
 "nbformat": 4,
 "nbformat_minor": 5
}
