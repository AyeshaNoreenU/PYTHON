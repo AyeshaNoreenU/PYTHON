{
 "cells": [
  {
   "cell_type": "code",
   "execution_count": 1,
   "id": "c4efbeca",
   "metadata": {},
   "outputs": [
    {
     "name": "stdout",
     "output_type": "stream",
     "text": [
      "I love Allah\n",
      "I Love Allah\n"
     ]
    }
   ],
   "source": [
    "print(\"I love Allah\")\n",
    "print('I Love Allah')"
   ]
  },
  {
   "cell_type": "code",
   "execution_count": 2,
   "id": "eab54d74",
   "metadata": {},
   "outputs": [
    {
     "name": "stdout",
     "output_type": "stream",
     "text": [
      "hello 'world' world\n",
      "hello \"world\" world\n"
     ]
    }
   ],
   "source": [
    "print(\"hello 'world' world\")             #it show hello ‘world’ world\n",
    "print ('hello \"world\" world')            #it show hello “world” world"
   ]
  },
  {
   "cell_type": "code",
   "execution_count": 3,
   "id": "ccb0b886",
   "metadata": {},
   "outputs": [
    {
     "ename": "SyntaxError",
     "evalue": "invalid syntax. Perhaps you forgot a comma? (2168881129.py, line 1)",
     "output_type": "error",
     "traceback": [
      "\u001b[1;36m  Cell \u001b[1;32mIn[3], line 1\u001b[1;36m\u001b[0m\n\u001b[1;33m    print(\"hello \"world\" world\")             #error\u001b[0m\n\u001b[1;37m          ^\u001b[0m\n\u001b[1;31mSyntaxError\u001b[0m\u001b[1;31m:\u001b[0m invalid syntax. Perhaps you forgot a comma?\n"
     ]
    }
   ],
   "source": [
    "print(\"hello \"world\" world\")             #error\n",
    "print('hello 'world' world')             #error"
   ]
  },
  {
   "cell_type": "code",
   "execution_count": 4,
   "id": "7d5f95a7",
   "metadata": {},
   "outputs": [
    {
     "name": "stdout",
     "output_type": "stream",
     "text": [
      "Enter your name:ayesha\n",
      "Enter your age:26\n",
      "ayesha 26\n"
     ]
    }
   ],
   "source": [
    "name=input('Enter your name:')\n",
    "age=input('Enter your age:')\n",
    "print(name+\" \"+age)"
   ]
  },
  {
   "cell_type": "code",
   "execution_count": 5,
   "id": "69c0009b",
   "metadata": {},
   "outputs": [
    {
     "name": "stdout",
     "output_type": "stream",
     "text": [
      "Enter your name and agehello,50\n",
      "hello\n",
      "50\n"
     ]
    }
   ],
   "source": [
    "name,age=input(\"Enter your name and age\").split(\",\")\n",
    "print(name)\n",
    "print(age)\n",
    "#here .split()is used to split inputs by default split is space.\n",
    "#here we put , so it take 1st input than , than 2nd input."
   ]
  },
  {
   "cell_type": "code",
   "execution_count": 6,
   "id": "ef8b2998",
   "metadata": {},
   "outputs": [
    {
     "name": "stdout",
     "output_type": "stream",
     "text": [
      "Enter number14\n",
      "Enter number26\n",
      "46\n",
      "Enter number14\n",
      "Enter number26\n",
      "10\n"
     ]
    }
   ],
   "source": [
    "number1=input('Enter number1')         #4\n",
    "number2=input('Enter number2')         #6\n",
    "total=number1+number2\n",
    "print(total)              #print 46 not 10 bcz input function always take input in string \n",
    "#than + operator concat it and then show.to convert string into int we use int function.as\n",
    "number1=int(input('Enter number1'))    #4\n",
    "number2=int(input('Enter number2'))    #6\n",
    "total=number1+number2\n",
    "print(total)                           #10"
   ]
  },
  {
   "cell_type": "code",
   "execution_count": 7,
   "id": "a90bcc10",
   "metadata": {},
   "outputs": [
    {
     "name": "stdout",
     "output_type": "stream",
     "text": [
      "I am Ayesha\tNoreen\n"
     ]
    }
   ],
   "source": [
    "print('I am Ayesha\\tNoreen')"
   ]
  },
  {
   "cell_type": "code",
   "execution_count": 8,
   "id": "38d8b777",
   "metadata": {},
   "outputs": [
    {
     "name": "stdout",
     "output_type": "stream",
     "text": [
      "I am Ayesha\n",
      "Noreen\n"
     ]
    }
   ],
   "source": [
    "print('I am Ayesha\\nNoreen')"
   ]
  },
  {
   "cell_type": "code",
   "execution_count": 9,
   "id": "d7429f54",
   "metadata": {},
   "outputs": [
    {
     "name": "stdout",
     "output_type": "stream",
     "text": [
      "I am Ayesha\bNoreen\n"
     ]
    }
   ],
   "source": [
    "print('I am Ayesha\\bNoreen')"
   ]
  },
  {
   "cell_type": "code",
   "execution_count": 10,
   "id": "52a0597d",
   "metadata": {},
   "outputs": [
    {
     "ename": "SyntaxError",
     "evalue": "invalid syntax. Perhaps you forgot a comma? (1632447449.py, line 1)",
     "output_type": "error",
     "traceback": [
      "\u001b[1;36m  Cell \u001b[1;32mIn[10], line 1\u001b[1;36m\u001b[0m\n\u001b[1;33m    print('I'm Ayesha') #I want to print I'm Ayesha\u001b[0m\n\u001b[1;37m          ^\u001b[0m\n\u001b[1;31mSyntaxError\u001b[0m\u001b[1;31m:\u001b[0m invalid syntax. Perhaps you forgot a comma?\n"
     ]
    }
   ],
   "source": [
    "print('I'm Ayesha') #I want to print I'm Ayesha"
   ]
  },
  {
   "cell_type": "code",
   "execution_count": 11,
   "id": "9d54f417",
   "metadata": {},
   "outputs": [
    {
     "name": "stdout",
     "output_type": "stream",
     "text": [
      "I'm Ayesha\n",
      "I am Ayesha\\Noreen\n",
      "I am Ayesha\" Noreen\n"
     ]
    }
   ],
   "source": [
    "print(\"I\\'m Ayesha\")\n",
    "print(\"I am Ayesha\\\\Noreen\")\n",
    "print(\"I am Ayesha\\\" Noreen\")"
   ]
  },
  {
   "cell_type": "code",
   "execution_count": 12,
   "id": "bf6bc86b",
   "metadata": {},
   "outputs": [
    {
     "name": "stdout",
     "output_type": "stream",
     "text": [
      "This is double slash////\n",
      "These are mountains/\\/\\/\\/\\/\\\n",
      "She is \t awsome\n"
     ]
    }
   ],
   "source": [
    "#print This is double slash//\n",
    "print('This is double slash////')\n",
    "#print These are mountains/\\/\\/\\/\\/\\\n",
    "print('These are mountains/\\\\/\\\\/\\\\/\\\\/\\\\')\n",
    "#print She is \tawesome\n",
    "print('She is \\t awsome')"
   ]
  },
  {
   "cell_type": "code",
   "execution_count": 13,
   "id": "3b2a8d73",
   "metadata": {},
   "outputs": [
    {
     "name": "stdout",
     "output_type": "stream",
     "text": [
      "hello\\nworld\n"
     ]
    }
   ],
   "source": [
    "print(r\"hello\\nworld\")"
   ]
  },
  {
   "cell_type": "code",
   "execution_count": 14,
   "id": "3b33fd73",
   "metadata": {},
   "outputs": [
    {
     "name": "stdout",
     "output_type": "stream",
     "text": [
      "😉 😠\n"
     ]
    }
   ],
   "source": [
    "print(\"\\U0001F609\",\"\\U0001F620\")"
   ]
  },
  {
   "cell_type": "code",
   "execution_count": 15,
   "id": "2fcdf139",
   "metadata": {},
   "outputs": [
    {
     "name": "stdout",
     "output_type": "stream",
     "text": [
      "5\n",
      "14\n",
      "0.5\n",
      "0\n",
      "16\n",
      "2\n",
      "2.0\n",
      "2.0\n",
      "1\n",
      "63515.0\n"
     ]
    }
   ],
   "source": [
    "print(2+3)               #print 5\n",
    "print(2+3*4)             #print 14 not 20 bcz it follows BODMASS rule(first multiply than add)\n",
    "print(2/4)               #print 0.5 (floating division)\n",
    "print(2//4)              #print 0   (integer division)\n",
    "print(2**4)              #print 16 (2 power 4)\n",
    "print(4-2)               #print 2\n",
    "print(4**0.5)            #print under root of 4 bcz ** mean power and 0.5 mean ½\n",
    "print(round(4**0.5,4))   #first roundoff for 4 digits than print\n",
    "print(3%2)               #this is modulu gives reminder which is 1\n",
    "print(3+(2*3)**5/6*7**2+8) #To solve such type of expression than in math we follow BODMASS rule \n",
    "#but in python it gives answer straightforward but how it solves this .it follows 2 laws precedence \n",
    "#and associative. In precedence we solve 1st parenthesis than exponent than (*,/,//,%)than(+,-)\n",
    "#We can easily  solve above if these occur one time if above symbols occur 2 or many times than \n",
    "#apply assosiative as if exponent occur 2 or more times than solve from right to left if (*,/,//,%)\n",
    "#occur same time having same precedence than solve from left to right and similarly if (+,-)having \n",
    "#same precedence occurs same time than solve from left to right mean 1st + than –"
   ]
  }
 ],
 "metadata": {
  "kernelspec": {
   "display_name": "Python 3 (ipykernel)",
   "language": "python",
   "name": "python3"
  },
  "language_info": {
   "codemirror_mode": {
    "name": "ipython",
    "version": 3
   },
   "file_extension": ".py",
   "mimetype": "text/x-python",
   "name": "python",
   "nbconvert_exporter": "python",
   "pygments_lexer": "ipython3",
   "version": "3.10.9"
  }
 },
 "nbformat": 4,
 "nbformat_minor": 5
}
