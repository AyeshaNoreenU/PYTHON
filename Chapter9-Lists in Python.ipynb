{
 "cells": [
  {
   "cell_type": "code",
   "execution_count": 1,
   "id": "0777d560",
   "metadata": {},
   "outputs": [
    {
     "name": "stdout",
     "output_type": "stream",
     "text": [
      "['Ayesha', 'Rimsha', 'Sana']\n",
      "Ayesha\n",
      "3\n",
      "four\n",
      "7.0\n",
      "none\n",
      "[1, 2, 3, '4', 5, 'six', 7.0, 'none']\n",
      "[1, 2, 'two', '4', 5, 'six', 7.0, 'none']\n"
     ]
    }
   ],
   "source": [
    "#lists\n",
    "names=[\"Ayesha\",\"Rimsha\",\"Sana\"]\n",
    "print(names)      #prints whole names list\n",
    "print(names[0])   #prints names at index 0 which is Ayesha\n",
    "mixed=[1,2,3,\"four\",5,'six',7.0,\"none\"] #mean we can store any type of data in list\n",
    "print(mixed[2])   #prints 3\n",
    "print(mixed[3])   #prints four\n",
    "print(mixed[6])   #prints 7.0\n",
    "print(mixed[-1])  #print none mean nothing not zero\n",
    "mixed[3]=\"4\"      #it replaces four with 4\n",
    "print(mixed)     \n",
    "mixed[2]=\"two\"\n",
    "print(mixed)"
   ]
  },
  {
   "cell_type": "code",
   "execution_count": 2,
   "id": "008f4dda",
   "metadata": {},
   "outputs": [
    {
     "name": "stdout",
     "output_type": "stream",
     "text": [
      "[]\n",
      "['ayesha']\n",
      "['ayesha', 'noreen', 'rimsha']\n",
      "['sana', 'ayesha', 'noreen', 'rimsha']\n",
      "['sana', 'ayesha', 'noreen', 'rimsha', 'arfan', 'adnan', 'ali']\n",
      "['sana', 'ayesha', 'noreen', 'rimsha', 'arfan', 'adnan', 'ali', 'arfan', 'adnan', 'ali']\n",
      "['sana', 'ayesha', 'noreen', 'rimsha', 'arfan', 'adnan', 'ali', 'arfan', 'adnan', 'ali']\n",
      "['sana', 'ayesha', 'noreen', 'rimsha', 'arfan', 'adnan', 'ali', 'arfan', 'adnan', 'ali', ['arfan', 'adnan', 'ali']]\n"
     ]
    }
   ],
   "source": [
    "#add data in a list\n",
    "names=[] #list can also be empty we can fill items in it by using append method\n",
    "print(names)\n",
    "names.append(\"ayesha\")  #append method always takes only 1 argument and store it at last of list\n",
    "print(names)\n",
    "names.append(\"noreen\")\n",
    "names.append(\"rimsha\")\n",
    "print(names)\n",
    "names.insert(0,\"sana\") #if we want to insert data in list at specific place than use insert method\n",
    "print(names)\n",
    "names2=[\"arfan\",\"adnan\",\"ali\"]\n",
    "names+=names2   #we can add two strings as save result in names list\n",
    "print(names)    #it prints all data of names and names2\n",
    "names3=names+names2  #or concatination of lists can also be done through this method concatination is saved in new list\n",
    "print(names3)\n",
    "names.extend(names2)\n",
    "print(names)  #prints [names,names2] makes names,names2 a whole list\n",
    "names.append(names2)\n",
    "print(names)  #prints [names,[names]] mean give list inside list."
   ]
  },
  {
   "cell_type": "code",
   "execution_count": 4,
   "id": "d8e9702a",
   "metadata": {},
   "outputs": [
    {
     "name": "stdout",
     "output_type": "stream",
     "text": [
      "['ayesha', 'noreen', 'sana', 'rimsha', 'noreen', 'arfan', 'adnan']\n",
      "['ayesha', 'noreen', 'rimsha', 'noreen', 'arfan', 'adnan']\n",
      "['ayesha', 'noreen', 'noreen', 'arfan', 'adnan']\n",
      "['ayesha', 'noreen', 'arfan', 'adnan']\n"
     ]
    }
   ],
   "source": [
    "#delete data from a list\n",
    "names=['ayesha','noreen','sana','rimsha','noreen','arfan','adnan','ali']\n",
    "names.pop()         #it pops out last item of list\n",
    "print(names)        #prints ['ayesha','noreen','sana','rimsha','noreen','arfan','adnan']\n",
    "#names.pop('sana')   #if we want to delete some specific name it give error\n",
    "names.pop(2)        #if we want to delete from some specific locaion\n",
    "print(names)        #it prints ['ayesha','noreen','rimsha','noreen','arfan','adnan']\n",
    "#del names[]\n",
    "#print(names)       #error del method parameter is not empty it should have some name\n",
    "del names[2]\n",
    "print(names)\n",
    "#del names['arfan']\n",
    "#print(names)       #gives error bcz cannot take string\n",
    "#names.remove()     \n",
    "#names.print()      #give error bcz removes take exactly one parameter\n",
    "names.remove(\"noreen\") \n",
    "print(names)       #in string two noreen are present it removes 1st noreen\n",
    "#names.remove(2)   #it gives error bcz it does not take number as parameter\n",
    "#print(names)"
   ]
  },
  {
   "cell_type": "code",
   "execution_count": 5,
   "id": "021272bb",
   "metadata": {},
   "outputs": [
    {
     "name": "stdout",
     "output_type": "stream",
     "text": [
      "name is present in names list\n"
     ]
    }
   ],
   "source": [
    "#in keyword in list\n",
    "names=[\"name\",\"ayesha\",\"noreen\"]\n",
    "if \"name\" in names:\n",
    "    print(\"name is present in names list\")\n",
    "else:\n",
    "    print(\"name is not present in names list\")\n",
    "#it prints name is present in names list"
   ]
  },
  {
   "cell_type": "code",
   "execution_count": 7,
   "id": "f0ed92ae",
   "metadata": {},
   "outputs": [
    {
     "name": "stdout",
     "output_type": "stream",
     "text": [
      "2\n",
      "[1, 3, 3, 4, 5, 5, 6]\n",
      "['ayesha', 'name', 'noreen', 'noreen', 'sana']\n",
      "[1, 2, 3, 4, 5]\n",
      "[5, 2, 4, 1, 3]\n",
      "[]\n",
      "['ayesha', 'name', 'noreen', 'noreen', 'sana']\n"
     ]
    }
   ],
   "source": [
    "#Some more functions of list\n",
    "name=[\"name\",\"ayesha\",\"noreen\",\"sana\",\"noreen\"]\n",
    "print(name.count(\"noreen\"))     #noreen is 2 times in list so it print 2\n",
    "number=[3,4,5,6,1,3,5,]\n",
    "number.sort()                  #it sort original number list in ascending order\n",
    "print(number)\n",
    "name.sort()                    #it sort names list alphabatically\n",
    "print(name)\n",
    "numbers=[5,2,4,1,3]\n",
    "print(sorted(numbers))         #it prints sorted numbers list\n",
    "print(numbers)                 #it prints original list without sorting\n",
    "numbers.clear()                #remove all items of numbers\n",
    "print(numbers)                 #it prints numbers as []\n",
    "copy_name=name.copy()          #name list is copied in copy_name\n",
    "print(copy_name)               #it prints name list which is copied in copy_name"
   ]
  },
  {
   "cell_type": "code",
   "execution_count": 8,
   "id": "51d4581f",
   "metadata": {},
   "outputs": [
    {
     "name": "stdout",
     "output_type": "stream",
     "text": [
      "True\n",
      "False\n",
      "False\n",
      "False\n",
      "False\n"
     ]
    }
   ],
   "source": [
    "#is vs == keyword\n",
    "name1=['ayesha','noreen','sana']\n",
    "name2=['ayesha','noreen','sana']\n",
    "name3=['ayesha','noreen','sana','rehman']\n",
    "print(name1==name2)     #prints true\n",
    "print(name2==name3)      #print false\n",
    "print(name1 is name2)   #print false\n",
    "print(name2 is name3)   #print false\n",
    "print(name3 is name1)   #print false"
   ]
  },
  {
   "cell_type": "code",
   "execution_count": 9,
   "id": "c1528bd8",
   "metadata": {},
   "outputs": [
    {
     "name": "stdout",
     "output_type": "stream",
     "text": [
      "['ayesha', '22']\n",
      "['sana', '13']\n",
      "ayesha\n",
      "22\n",
      "ayesha,22\n"
     ]
    }
   ],
   "source": [
    "#split and join methods\n",
    "user_info=\"ayesha 22\".split()       #split from spaces\n",
    "print(user_info)                    #\n",
    "employee_info=\"sana,13\".split(\",\")  #split from commas\n",
    "print(employee_info)                #prints ['sana','13']\n",
    "name,age=\"ayesha,22\".split(\",\")     #we can store name and age in two seprate variables\n",
    "print(name)\n",
    "print(age)\n",
    "user_info=['ayesha','22']\n",
    "print(\",\".join(user_info))          #prints ayesha,22"
   ]
  },
  {
   "cell_type": "code",
   "execution_count": 14,
   "id": "c5a48936",
   "metadata": {},
   "outputs": [
    {
     "name": "stdout",
     "output_type": "stream",
     "text": [
      "ayesha noreen sana \n",
      "\n",
      "ayesha noreen sana "
     ]
    }
   ],
   "source": [
    "#For loop and while loop:                \n",
    "names=['ayesha','noreen','sana']\n",
    "for i in names:\n",
    "    print(i, end=\" \") #prints ayesha,noreen,sana\n",
    "print('\\n')    \n",
    "i=0\n",
    "while i<len(names):\n",
    "    print(names[i], end=\" \")\n",
    "    i+=1"
   ]
  },
  {
   "cell_type": "code",
   "execution_count": 15,
   "id": "11831754",
   "metadata": {},
   "outputs": [
    {
     "name": "stdout",
     "output_type": "stream",
     "text": [
      "Ayesha\n",
      "AYESHA\n",
      "['ayesha', 'noreen']\n"
     ]
    }
   ],
   "source": [
    "# string vs list\n",
    "string=\"Ayesha\"\n",
    "string.upper()\n",
    "print(string)   #prints Ayesha not AYESHA bcz strings are immutable mean not change original string\n",
    "upper=string.upper()\n",
    "print(upper)    #prints AYESHA bcz it is not original string\n",
    "list_items=['ayesha','noreen','sana']\n",
    "del list_items[2]\n",
    "print(list_items)   #prints ['ayesha','noreen']mean change in original string"
   ]
  },
  {
   "cell_type": "code",
   "execution_count": 16,
   "id": "c99d3a3c",
   "metadata": {},
   "outputs": [
    {
     "name": "stdout",
     "output_type": "stream",
     "text": [
      "[1, 2, 3]\n",
      "[4, 5, 6]\n",
      "[7, 8, 9]\n",
      "5\n",
      "1\n",
      "2\n",
      "3\n",
      "4\n",
      "5\n",
      "6\n",
      "7\n",
      "8\n",
      "9\n"
     ]
    }
   ],
   "source": [
    "#list inside list\n",
    "two_dimension_list=[[1,2,3],[4,5,6],[7,8,9]] #this list contains 3 items each item contains 3subitems\n",
    "for i in two_dimension_list:\n",
    "    print(i)  #prints[1,2,3]\n",
    "              #      [4,5,6]\n",
    "              #      [7,8,9]\n",
    "# if we want to print 2nd item of 2nd list\n",
    "print(two_dimension_list[1][1]) #if we want to print whole items of list including subitems\n",
    "#than apply two loops for loop inside for\n",
    "for i in two_dimension_list:\n",
    "    for j in i:\n",
    "        print(j)"
   ]
  },
  {
   "cell_type": "code",
   "execution_count": 19,
   "id": "f6ceffd5",
   "metadata": {},
   "outputs": [
    {
     "name": "stdout",
     "output_type": "stream",
     "text": [
      "original List is:[1, 2, 3, 4, 5]\n",
      "Squared list is:[1, 4, 9, 16, 25]\n"
     ]
    }
   ],
   "source": [
    "#A program that returns sequare of each element of list\n",
    "def square(l):\n",
    "    sq=[]\n",
    "    for i in l:\n",
    "        i*=i\n",
    "        sq.append(i)\n",
    "    return sq\n",
    "numbers=[1,2,3,4,5]\n",
    "print(f\"original List is:{numbers}\")\n",
    "print(f\"Squared list is:{square(numbers)}\") "
   ]
  },
  {
   "cell_type": "code",
   "execution_count": 20,
   "id": "eadd6b82",
   "metadata": {},
   "outputs": [
    {
     "name": "stdout",
     "output_type": "stream",
     "text": [
      "Original list is:[1, 2, 3, 4, 5, 6, 7, 8, 9]\n",
      "Reverse list is:[9, 8, 7, 6, 5, 4, 3, 2, 1]\n",
      "Original list is:['word1', 'word2', 'word3']\n",
      "Reverse list is:['word3', 'word2', 'word1']\n"
     ]
    }
   ],
   "source": [
    "#reverse of list\n",
    "numbers=[1,2,3,4,5,6,7,8,9]\n",
    "def reverse(List):\n",
    "    i=List[::-1]\n",
    "    return i\n",
    "print(f\"Original list is:{numbers}\")\n",
    "print(f\"Reverse list is:{reverse(numbers)}\")\n",
    "words=['word1','word2','word3']\n",
    "def reverse(List):\n",
    "    i=List[::-1]\n",
    "    return i\n",
    "print(f\"Original list is:{words}\")\n",
    "print(f\"Reverse list is:{reverse(words)}\")"
   ]
  },
  {
   "cell_type": "code",
   "execution_count": 21,
   "id": "89f881db",
   "metadata": {},
   "outputs": [
    {
     "name": "stdout",
     "output_type": "stream",
     "text": [
      "Original list is:['ayesha', 'noreen', 'sana']\n",
      "Reverse of elements of string are:['ahseya', 'neeron', 'anas']\n",
      "Original list is:['100', '200', '300']\n",
      "Reverse of elements of list are:['001', '002', '003']\n"
     ]
    }
   ],
   "source": [
    "#Take a list and print reverse of each element of list.\n",
    "names=['ayesha','noreen','sana']\n",
    "def reverse_elements(l):\n",
    "    emp=[]\n",
    "    for i in l:\n",
    "        j=i[::-1]\n",
    "        emp.append(j)\n",
    "    return emp\n",
    "print(f\"Original list is:{names}\")\n",
    "print(f\"Reverse of elements of string are:{reverse_elements(names)}\")\n",
    "numbers=['100','200','300']\n",
    "def reverse_elements(l):\n",
    "    emp=[]\n",
    "    for i in l:\n",
    "        j=i[::-1]\n",
    "        emp.append(j)\n",
    "    return emp\n",
    "print(f\"Original list is:{numbers}\")\n",
    "print(f\"Reverse of elements of list are:{reverse_elements(numbers)}\")"
   ]
  },
  {
   "cell_type": "code",
   "execution_count": 26,
   "id": "7b0cc0b9",
   "metadata": {},
   "outputs": [
    {
     "name": "stdout",
     "output_type": "stream",
     "text": [
      "[1, 2, 3]\n"
     ]
    }
   ],
   "source": [
    "#take to lists than findout common from these lists.\n",
    "def common_finder(l1,l2):\n",
    "    output=[]\n",
    "    for i in l1:\n",
    "        if i in l2:\n",
    "            output.append(i)\n",
    "    return output\n",
    "print(common_finder([1,2,3,4,5],[1,2,3]))\n",
    "#it prints [1,2,3]"
   ]
  },
  {
   "cell_type": "code",
   "execution_count": 27,
   "id": "ba4b5a19",
   "metadata": {},
   "outputs": [
    {
     "name": "stdout",
     "output_type": "stream",
     "text": [
      "Original List is:[1, 2, 3, 4, 5, 6, 7, 8, 9]\n",
      "Maximum number from list is:9\n",
      "Minimum number from list is:1\n",
      "Greatest difference of list is:8\n"
     ]
    }
   ],
   "source": [
    "numbers=[1,2,3,4,5,6,7,8,9]\n",
    "print(f\"Original List is:{numbers}\")\n",
    "print(f\"Maximum number from list is:{max(numbers)}\")\n",
    "print(f\"Minimum number from list is:{min(numbers)}\")\n",
    "def max_diff(l):\n",
    "    return max(l)-min(l)\n",
    "print(f\"Greatest difference of list is:{max_diff(numbers)}\")"
   ]
  },
  {
   "cell_type": "code",
   "execution_count": 28,
   "id": "f3984c47",
   "metadata": {},
   "outputs": [
    {
     "name": "stdout",
     "output_type": "stream",
     "text": [
      "4\n"
     ]
    }
   ],
   "source": [
    "#take a list containg many sublists define a function that counts number of sublists\n",
    "numbers=[1,2,3,[4,5],[6],[],[7,8,9,10]]\n",
    "def sublists_counter(l):\n",
    "    count=0\n",
    "    for i in l:\n",
    "        if type(i)==type(l):\n",
    "            count=count+1\n",
    "    return count\n",
    "print(sublists_counter(numbers))"
   ]
  }
 ],
 "metadata": {
  "kernelspec": {
   "display_name": "Python 3 (ipykernel)",
   "language": "python",
   "name": "python3"
  },
  "language_info": {
   "codemirror_mode": {
    "name": "ipython",
    "version": 3
   },
   "file_extension": ".py",
   "mimetype": "text/x-python",
   "name": "python",
   "nbconvert_exporter": "python",
   "pygments_lexer": "ipython3",
   "version": "3.10.9"
  }
 },
 "nbformat": 4,
 "nbformat_minor": 5
}
