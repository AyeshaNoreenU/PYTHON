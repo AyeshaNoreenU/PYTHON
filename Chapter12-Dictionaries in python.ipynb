{
 "cells": [
  {
   "cell_type": "code",
   "execution_count": 9,
   "id": "8e26d135",
   "metadata": {},
   "outputs": [
    {
     "name": "stdout",
     "output_type": "stream",
     "text": [
      "{'name': 'Ayesha', 'age': 22}\n",
      "Ayesha\n",
      "{'name1': 'ayesha', 'age1': 22, 'city': 'kamalia'}\n",
      "{'name': 'ayesha'}\n"
     ]
    }
   ],
   "source": [
    "user=dict(name='Ayesha',age=22)  #creating dictionary through another method\n",
    "print(user)\n",
    "print(user['name'])  #we can access values of dictionary trough key\n",
    "#we can create dictionary inside dictionary\n",
    "users={'user1':{'name1':'ayesha','age1':22,'city':'kamalia'},'user2':{'name2':'noreen','age2':22}}\n",
    "print(users['user1'])\n",
    "emp={}  #we can add data in empty dictionary as\n",
    "emp['name']='ayesha'\n",
    "print(emp)"
   ]
  },
  {
   "cell_type": "code",
   "execution_count": 10,
   "id": "6166d937",
   "metadata": {},
   "outputs": [
    {
     "name": "stdout",
     "output_type": "stream",
     "text": [
      "Present\n",
      "not present\n",
      "not present\n"
     ]
    }
   ],
   "source": [
    "#in keyword \n",
    "mixed={'name':'Ayesha','city':'Lahore'}\n",
    "if 'name' in mixed:\n",
    "    print(\"Present\")\n",
    "else:\n",
    "    print(\"Not present\")\n",
    "#it prints present\n",
    "if 'kamalia' in mixed:\n",
    "    print(\"present\")\n",
    "else:\n",
    "    print(\"not present\")\n",
    "#it prints not present bcz it chk keys only   \n",
    "if 'kamalia' in mixed.values():\n",
    "    print(\"present\")\n",
    "else:\n",
    "    print(\"not present\")\n",
    "#it prints present bcz values mehod is called"
   ]
  },
  {
   "cell_type": "code",
   "execution_count": 11,
   "id": "dbfe7e8a",
   "metadata": {},
   "outputs": [
    {
     "name": "stdout",
     "output_type": "stream",
     "text": [
      "values of dictinary is:dict_values(['Ayesha', 'Lahore'])\n",
      "keys of dictinary is:dict_keys(['name', 'city'])\n"
     ]
    }
   ],
   "source": [
    "#keys and values\n",
    "mixed_dictionary_values=mixed.values()\n",
    "print(f\"values of dictinary is:{mixed_dictionary_values}\")\n",
    "mixed_dictionary_keys=mixed.keys()\n",
    "print(f\"keys of dictinary is:{mixed_dictionary_keys}\")"
   ]
  },
  {
   "cell_type": "code",
   "execution_count": 12,
   "id": "29d2d224",
   "metadata": {},
   "outputs": [
    {
     "name": "stdout",
     "output_type": "stream",
     "text": [
      "dict_items([('name', 'Ayesha noreen'), ('city', 'kamalia')])\n"
     ]
    }
   ],
   "source": [
    "#items methods\n",
    "mixed={'name':'Ayesha noreen','city':'kamalia'}\n",
    "items_of_dictionary=mixed.items()\n",
    "print(items_of_dictionary)\n",
    "# it prints dict_items([('name', 'Ayesha noreen'), ('city', 'kamalia')])"
   ]
  },
  {
   "cell_type": "code",
   "execution_count": 13,
   "id": "fc24018a",
   "metadata": {},
   "outputs": [
    {
     "name": "stdout",
     "output_type": "stream",
     "text": [
      "name\n",
      "city\n",
      "Ayesha noreen\n",
      "kamalia\n",
      "keys are:name and values are:Ayesha noreen\n",
      "keys are:city and values are:kamalia\n"
     ]
    }
   ],
   "source": [
    "#looping\n",
    "mixed={'name':'Ayesha noreen','city':'kamalia'}\n",
    "for i in mixed:\n",
    "    print(i)\n",
    "    #gives only key values\n",
    "for i in mixed.values():\n",
    "    print(i)\n",
    "    #gives only values\n",
    "for i,j in mixed.items():\n",
    "    print(f\"keys are:{i} and values are:{j}\")\n",
    "    #it prints keys are:name and values are:Ayesha noreen\n",
    "    #keys are:city and values are:kamalia\n",
    "    #so items is best bcz give bith keys and values"
   ]
  },
  {
   "cell_type": "code",
   "execution_count": 15,
   "id": "b1422a08",
   "metadata": {},
   "outputs": [
    {
     "name": "stdout",
     "output_type": "stream",
     "text": [
      "{'name': 'Ayesha noreen', 'city': 'lahore', 'songs': ['song1', 'song2']}\n",
      "lahore\n",
      "{'name': 'Ayesha noreen', 'songs': ['song1', 'song2']}\n",
      "('songs', ['song1', 'song2'])\n",
      "<class 'tuple'>\n",
      "{'name': 'Ayesha noreen'}\n"
     ]
    }
   ],
   "source": [
    "#add and delete data\n",
    "mixed={'name':'Ayesha noreen','city':'lahore'}\n",
    "mixed['songs']=['song1','song2']\n",
    "print(mixed)\n",
    "poped_item=mixed.pop('city')\n",
    "print(poped_item)\n",
    "print(mixed)\n",
    "poped_item=mixed.popitem()\n",
    "print(poped_item)\n",
    "print(type(poped_item))\n",
    "print(mixed)\n",
    "#both pop method and popitem method are used to delete values of dictionary \n",
    "#but pop method take exactly one parameter and popitem take no parameter and \n",
    "#delete randomly from dictionary.popitem return type tuple and pop method type \n",
    "#is according to data which is deleted."
   ]
  },
  {
   "cell_type": "code",
   "execution_count": 17,
   "id": "6d77e4cb",
   "metadata": {},
   "outputs": [
    {
     "name": "stdout",
     "output_type": "stream",
     "text": [
      "{'name': 'Ayesha noreen', 'city': 'kamalia', 'state': 'pakistan'}\n",
      "{'name': 'Ayesha noreen', 'city': 'kamalia', 'state': 'pakistan'}\n"
     ]
    }
   ],
   "source": [
    "#update method\n",
    "user_info={'name':'Ayesha noreen','city':'kamalia'}\n",
    "more_info={'state':'pakistan'}\n",
    "user_info.update(more_info)\n",
    "print(user_info)\n",
    "user_info.update({})  \n",
    "#this does not have any change bcz update method is empty\n",
    "print(user_info)"
   ]
  },
  {
   "cell_type": "code",
   "execution_count": 18,
   "id": "531ad93a",
   "metadata": {},
   "outputs": [
    {
     "name": "stdout",
     "output_type": "stream",
     "text": [
      "{'name': '123', 'age': '123', 'city': '123'}\n",
      "{'name': '123', 'age': '123', 'city': '123'}\n",
      "{'s': 'unknown', 't': 'unknown', 'a': 'unknown', 'e': 'unknown'}\n",
      "{1: 'unknown', 2: 'unknown', 3: 'unknown', 4: 'unknown', 5: 'unknown', 6: 'unknown', 7: 'unknown', 8: 'unknown', 9: 'unknown', 10: 'unknown'}\n",
      "{'name': ['unknown', 'unknown'], 'age': ['unknown', 'unknown']}\n"
     ]
    }
   ],
   "source": [
    "#from keys method\n",
    "d=dict.fromkeys(['name','age','city'],'123')\n",
    "print(d)\n",
    "d=dict.fromkeys(('name','age','city'),'123')\n",
    "print(d)\n",
    "#we can also use tuple in place of list it gives same output\n",
    "#it prints {'name': '123', 'age': '123', 'city': '123'} 123 is assign to aach as its value\n",
    "d=dict.fromkeys('state','unknown')\n",
    "print(d)\n",
    "#if we pass a string than it assign values to each element of string as\n",
    "#{'s': 'unknown', 't': 'unknown', 'a': 'unknown', 'e': 'unknown'}\n",
    "d=dict.fromkeys(range(1,11),'unknown')\n",
    "print(d)\n",
    "#we can also use range function it assign default value to each number in range it prints as\n",
    "#{1: 'unknown', 2: 'unknown', 3: 'unknown', 4: 'unknown', 5: 'unknown', 6: 'unknown',\n",
    "# 7: 'unknown', 8: 'unknown', 9: 'unknown', 10: 'unknown'}\n",
    "d=dict.fromkeys(['name','age'],['unknown','unknown'])\n",
    "print(d)"
   ]
  },
  {
   "cell_type": "code",
   "execution_count": 19,
   "id": "be67a3c3",
   "metadata": {},
   "outputs": [
    {
     "name": "stdout",
     "output_type": "stream",
     "text": [
      "ayesha\n",
      "ayesha\n",
      "None\n"
     ]
    }
   ],
   "source": [
    "#get method\n",
    "#Get method is used to access data of dictionary.\n",
    "user_info={'name':'ayesha','age':22}\n",
    "print(user_info['name']) #gives ayesha\n",
    "#print(user_info['names']) #gives error bcz names is not present\n",
    "print(user_info.get('name')) #gives ayesha\n",
    "print(user_info.get('names')) #gives none not error bcz names is none mean not present"
   ]
  },
  {
   "cell_type": "code",
   "execution_count": 20,
   "id": "9c70c2ff",
   "metadata": {},
   "outputs": [
    {
     "name": "stdout",
     "output_type": "stream",
     "text": [
      "{}\n"
     ]
    }
   ],
   "source": [
    "#clear method\n",
    "#clear method is used for clear of dictionary.\n",
    "user_info={'name':'ayesha','age':22}\n",
    "user_info.clear()\n",
    "print(user_info) #prints {}"
   ]
  },
  {
   "cell_type": "code",
   "execution_count": 22,
   "id": "f860d0e8",
   "metadata": {},
   "outputs": [
    {
     "name": "stdout",
     "output_type": "stream",
     "text": [
      "{'name': 'ayesha', 'age': 22}\n",
      "False\n",
      "True\n"
     ]
    }
   ],
   "source": [
    "#copy method\n",
    "#copy method is used for coping one dictionary into another.\n",
    "user_info={'name':'ayesha','age':22}\n",
    "copied=user_info.copy()\n",
    "print(copied)\n",
    "#prints {'name':'ayesha','age':22} \n",
    "print(copied is user_info)   #return false mean not same\n",
    "print(copied==user_info)     #return true mean same it chks values"
   ]
  },
  {
   "cell_type": "code",
   "execution_count": 23,
   "id": "9d7e9b68",
   "metadata": {},
   "outputs": [
    {
     "name": "stdout",
     "output_type": "stream",
     "text": [
      "Enter any number:6\n",
      "dictionary with cube of numbers is={1: 1, 2: 8, 3: 27, 4: 64, 5: 125, 6: 216}\n"
     ]
    }
   ],
   "source": [
    "#take a number and print a dictionary from 1 to numbera as keys and values are cube of keys\n",
    "n=int(input(\"Enter any number:\"))\n",
    "def cube(num):\n",
    "    d={}\n",
    "    for i in range(1,num+1):\n",
    "        d[i]=i*i*i\n",
    "    return d\n",
    "print(f\"dictionary with cube of numbers is={cube(n)}\")\n",
    "#output\n",
    "#dictionary with cube of numbers is={1: 1, 2: 8, 3: 27, 4: 64, 5: 125}"
   ]
  },
  {
   "cell_type": "code",
   "execution_count": 24,
   "id": "532eb372",
   "metadata": {},
   "outputs": [
    {
     "name": "stdout",
     "output_type": "stream",
     "text": [
      "{'a': 2, 'y': 1, 'e': 1, 's': 1, 'h': 1}\n"
     ]
    }
   ],
   "source": [
    "#define a counter function that take a string and counts \n",
    "#how many times each character of string is occur\n",
    "def counter(s):\n",
    "    count={}\n",
    "    for i in s:\n",
    "        count[i]=s.count(i)\n",
    "    return count\n",
    "print(counter(\"ayesha\"))\n",
    "#output\n",
    "#it prints {'a': 2, 'y': 1, 'e': 1, 's': 1, 'h': 1}\n",
    "#it we donot have to chk if any character occur twice bcz counter automatically override it"
   ]
  },
  {
   "cell_type": "code",
   "execution_count": 25,
   "id": "42a4800c",
   "metadata": {},
   "outputs": [
    {
     "name": "stdout",
     "output_type": "stream",
     "text": [
      "Enter your name:ayesha\n",
      "Enter your age:26\n",
      "Enter your city:lhr\n",
      "Enter your fav movies seprated by comma:coco,was,saa\n",
      "Enter your fav song seprated by comma:awaz,zuban,haha\n",
      "name:ayesha\n",
      "age:26\n",
      "city:lhr\n",
      "movies:['coco', 'was', 'saa']\n",
      "song:['awaz', 'zuban', 'haha']\n"
     ]
    }
   ],
   "source": [
    "#take input from user and print dictionary in this format\n",
    "mixed={}\n",
    "name=input(\"Enter your name:\")\n",
    "age=input(\"Enter your age:\")\n",
    "city=input(\"Enter your city:\")\n",
    "movies=input(\"Enter your fav movies seprated by comma:\").split(\",\")\n",
    "song=input(\"Enter your fav song seprated by comma:\").split(\",\")\n",
    "mixed['name']=name\n",
    "mixed['age']=age\n",
    "mixed['city']=city\n",
    "mixed['movies']=movies\n",
    "mixed['song']=song\n",
    "for i,j in mixed.items():\n",
    "    print(f\"{i}:{j}\")"
   ]
  },
  {
   "cell_type": "code",
   "execution_count": null,
   "id": "81ba2a86",
   "metadata": {},
   "outputs": [],
   "source": []
  }
 ],
 "metadata": {
  "kernelspec": {
   "display_name": "Python 3 (ipykernel)",
   "language": "python",
   "name": "python3"
  },
  "language_info": {
   "codemirror_mode": {
    "name": "ipython",
    "version": 3
   },
   "file_extension": ".py",
   "mimetype": "text/x-python",
   "name": "python",
   "nbconvert_exporter": "python",
   "pygments_lexer": "ipython3",
   "version": "3.10.9"
  }
 },
 "nbformat": 4,
 "nbformat_minor": 5
}
