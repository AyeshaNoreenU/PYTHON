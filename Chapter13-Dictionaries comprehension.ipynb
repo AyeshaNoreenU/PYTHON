{
 "cells": [
  {
   "cell_type": "code",
   "execution_count": 1,
   "id": "b3ecac7c",
   "metadata": {},
   "outputs": [
    {
     "name": "stdout",
     "output_type": "stream",
     "text": [
      "1:1\n",
      "2:4\n",
      "3:9\n",
      "4:16\n",
      "5:25\n",
      "6:36\n",
      "7:49\n",
      "8:64\n",
      "9:81\n",
      "keys value =1:square of keys =:1\n",
      "keys value =2:square of keys =:4\n",
      "keys value =3:square of keys =:9\n",
      "keys value =4:square of keys =:16\n",
      "keys value =5:square of keys =:25\n",
      "keys value =6:square of keys =:36\n",
      "keys value =7:square of keys =:49\n",
      "keys value =8:square of keys =:64\n",
      "keys value =9:square of keys =:81\n"
     ]
    }
   ],
   "source": [
    "#take a dictionary and print number in key and square of number in its value\n",
    "#by simple method\n",
    "for i in range(1,10):\n",
    "    print(f\"{i}:{i**2}\")\n",
    "#by dictionary comprehension\n",
    "squares={num:num**2 for num in range(1,10)}\n",
    "for i,j in squares.items():  #for print\n",
    "    print(f\"keys value ={i}:square of keys =:{j}\")"
   ]
  },
  {
   "cell_type": "code",
   "execution_count": 2,
   "id": "13950354",
   "metadata": {},
   "outputs": [
    {
     "name": "stdout",
     "output_type": "stream",
     "text": [
      "{'a': 2, 'y': 1, 'e': 1, 's': 1, 'h': 1}\n"
     ]
    }
   ],
   "source": [
    "#take a string and print each caracter in key and number of count of each \n",
    "#character as its value by dictionary comprehension\n",
    "name=\"ayesha\"\n",
    "word_counter={char:name.count(char)for char in name}\n",
    "print(word_counter)"
   ]
  },
  {
   "cell_type": "code",
   "execution_count": 3,
   "id": "7ec597f5",
   "metadata": {},
   "outputs": [
    {
     "name": "stdout",
     "output_type": "stream",
     "text": [
      "{1: 'odd', 2: 'even', 3: 'odd', 4: 'even', 5: 'odd', 6: 'even', 7: 'odd', 8: 'even', 9: 'odd', 10: 'even'}\n"
     ]
    }
   ],
   "source": [
    "#print number from 1 to 10 in key and its value contain even or odd according to key is ]\n",
    "#even or odd and print by using list comprehension\n",
    "even_odd={i:('even'if i%2==0 else 'odd')for i in range(1,11)}\n",
    "print(even_odd)\n",
    "#it prints {1: 'odd', 2: 'even', 3: 'odd', 4: 'even', 5: 'odd', \n",
    "#6: 'even', 7: 'odd', 8: 'even', 9: 'odd', 10: 'even'}"
   ]
  }
 ],
 "metadata": {
  "kernelspec": {
   "display_name": "Python 3 (ipykernel)",
   "language": "python",
   "name": "python3"
  },
  "language_info": {
   "codemirror_mode": {
    "name": "ipython",
    "version": 3
   },
   "file_extension": ".py",
   "mimetype": "text/x-python",
   "name": "python",
   "nbconvert_exporter": "python",
   "pygments_lexer": "ipython3",
   "version": "3.10.9"
  }
 },
 "nbformat": 4,
 "nbformat_minor": 5
}
